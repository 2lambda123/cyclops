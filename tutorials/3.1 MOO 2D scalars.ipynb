{
 "cells": [
  {
   "cell_type": "markdown",
   "metadata": {},
   "source": [
    "# 3.1 MOO for 2D scalar fields"
   ]
  },
  {
   "cell_type": "code",
   "execution_count": null,
   "metadata": {},
   "outputs": [],
   "source": [
    "%matplotlib inline\n",
    "import sys\n",
    "import os\n",
    "\n",
    "# Sort the paths out to run from this file\n",
    "parent_path = os.path.dirname(os.getcwd())\n",
    "src_path = os.path.join(os.path.sep,parent_path, 'src')\n",
    "sys.path.append(src_path)\n",
    "print(src_path)"
   ]
  },
  {
   "cell_type": "markdown",
   "metadata": {},
   "source": [
    "Setting up the objects is the same as before"
   ]
  },
  {
   "cell_type": "code",
   "execution_count": null,
   "metadata": {},
   "outputs": [],
   "source": [
    "from run_me import *\n",
    "\n",
    "\n",
    "# Load any objects necessary\n",
    "pickle_manager = PickleManager()\n",
    "graph_manager = GraphManager()\n",
    "true_temp_field = pickle_manager.read_file('simulation', 'temp_plane_field.obj')\n",
    "grid = pickle_manager.read_file('simulation', 'temp_plane_points.obj')\n",
    "\n",
    "field_bounds = true_temp_field.get_bounds()\n",
    "sensor_bounds = field_bounds+np.array([[1, 1], [-1, -1]])*0.002"
   ]
  },
  {
   "cell_type": "code",
   "execution_count": null,
   "metadata": {},
   "outputs": [],
   "source": [
    "# Setup the symmetry\n",
    "symmetry_manager = SymmetryManager()\n",
    "symmetry_manager.set_2D_x(np.mean(field_bounds[:, 0]))\n",
    "\n",
    "# Setup the sensor suite\n",
    "def f(x): return np.zeros(x.shape)\n",
    "sensor_1 = RoundSensor(0, f, 0.1, np.array([[-5000], [5000]]), 0, 2)\n",
    "sensor_2 = MultiSensor(0, f, 0.2, np.array([[-5000], [5000]]), np.linspace(sensor_bounds[0, 0], sensor_bounds[1, 0], 10).reshape(-1, 2))\n",
    "sensors = np.array([sensor_1, sensor_1, sensor_1, sensor_1, sensor_1])\n",
    "\n",
    "sensor_suite = SensorSuite(\n",
    "    ScalarField(RBFModel, field_bounds), \n",
    "    sensors,\n",
    "    symmetry=[symmetry_manager.reflect_2D_horiz]\n",
    ")"
   ]
  },
  {
   "cell_type": "markdown",
   "metadata": {},
   "source": [
    "The function names are slightly different."
   ]
  },
  {
   "cell_type": "code",
   "execution_count": null,
   "metadata": {},
   "outputs": [],
   "source": [
    "# Setup the experiment\n",
    "optimiser = NSGA2Optimiser('00:00:10')\n",
    "experiment = Experiment(\n",
    "    true_temp_field,\n",
    "    grid,\n",
    "    optimiser\n",
    ")\n",
    "experiment.plan_moo(\n",
    "    sensor_suite,\n",
    "    sensor_bounds,\n",
    "    repetitions=100,\n",
    "    loss_limit=1000,\n",
    "    num_cores=4\n",
    ")\n",
    "res = experiment.design()\n",
    "\n",
    "\n",
    "\n",
    "# Display and save the results\n",
    "for i, setup in enumerate(res.X):\n",
    "    pickle_manager.save_file('results', 'Temp_2D_'+str(i)+'.obj', setup.reshape(-1, true_temp_field.get_dim()))"
   ]
  },
  {
   "cell_type": "markdown",
   "metadata": {},
   "source": [
    "We only plot the graphs for the points you are interested in."
   ]
  },
  {
   "cell_type": "code",
   "execution_count": null,
   "metadata": {},
   "outputs": [],
   "source": [
    "graph_manager.build_pareto(res.F)\n",
    "graph_manager.draw()\n",
    "\n",
    "graph_manager.build_pareto(res.F)\n",
    "graph_manager.save_png('results', 'Pareto.png')\n",
    "\n",
    "display_str = input('Enter setup to display [Q to quit]: ')\n",
    "while display_str.isnumeric():\n",
    "    proposed_layout, true_temps, model_temps, sensor_values = experiment.get_SOO_plotting_arrays(res.X[int(display_str)])\n",
    "    print('\\nLoss:', experiment.calc_MOO_loss(res.X[int(display_str)]))\n",
    "    graph_manager.build_2D_compare(\n",
    "        grid,\n",
    "        proposed_layout,\n",
    "        true_temps,\n",
    "        model_temps\n",
    "    )\n",
    "    graph_manager.draw()\n",
    "    display_str = input('Enter setup to display [Q to quit]: ')"
   ]
  }
 ],
 "metadata": {
  "kernelspec": {
   "display_name": "Python 3.11.4 64-bit",
   "language": "python",
   "name": "python3"
  },
  "language_info": {
   "codemirror_mode": {
    "name": "ipython",
    "version": 3
   },
   "file_extension": ".py",
   "mimetype": "text/x-python",
   "name": "python",
   "nbconvert_exporter": "python",
   "pygments_lexer": "ipython3",
   "version": "3.11.4"
  },
  "orig_nbformat": 4,
  "vscode": {
   "interpreter": {
    "hash": "e7370f93d1d0cde622a1f8e1c04877d8463912d04d973331ad4851f04de6915a"
   }
  }
 },
 "nbformat": 4,
 "nbformat_minor": 2
}
