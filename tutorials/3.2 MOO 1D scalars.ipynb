{
 "cells": [
  {
   "cell_type": "markdown",
   "metadata": {},
   "source": [
    "# 3.2 MOO for 1D scalar fields"
   ]
  },
  {
   "cell_type": "code",
   "execution_count": null,
   "metadata": {},
   "outputs": [],
   "source": [
    "%matplotlib inline\n",
    "import sys\n",
    "import os\n",
    "\n",
    "# Sort the paths out to run from this file\n",
    "parent_path = os.path.dirname(os.getcwd())\n",
    "src_path = os.path.join(os.path.sep,parent_path, 'src')\n",
    "sys.path.append(src_path)\n",
    "print(src_path)"
   ]
  },
  {
   "cell_type": "code",
   "execution_count": null,
   "metadata": {},
   "outputs": [],
   "source": [
    "from run_me import *\n",
    "\n",
    "\n",
    "# Load any objects necessary\n",
    "pickle_manager = PickleManager()\n",
    "graph_manager = PlotManager()\n",
    "true_temp_field = pickle_manager.read_file('simulation', 'temp_line_field.obj')\n",
    "grid = pickle_manager.read_file('simulation', 'temp_line_points.obj')\n",
    "\n",
    "field_bounds = true_temp_field.get_bounds()\n",
    "sensor_bounds = field_bounds+np.array([[1], [-1]])*0.002"
   ]
  },
  {
   "cell_type": "code",
   "execution_count": null,
   "metadata": {},
   "outputs": [],
   "source": [
    "# Setup the sensor suite\n",
    "temps = pickle_manager.read_file('sensors', 'k-type-T.obj')\n",
    "voltages = pickle_manager.read_file('sensors', 'k-type-V.obj')\n",
    "sensor = Thermocouple(temps, voltages, 1)\n",
    "sensors = np.array([sensor]*5)\n",
    "\n",
    "sensor_suite = SensorSuite(\n",
    "    ScalarField(RBFModel, field_bounds), \n",
    "    sensors\n",
    ")"
   ]
  },
  {
   "cell_type": "code",
   "execution_count": null,
   "metadata": {},
   "outputs": [],
   "source": [
    "# Setup the experiment\n",
    "optimiser = NSGA2Optimiser('00:00:10')\n",
    "experiment = Experiment(\n",
    "    true_temp_field,\n",
    "    grid,\n",
    "    optimiser\n",
    ")\n",
    "experiment.plan_moo(\n",
    "    sensor_suite,\n",
    "    sensor_bounds,\n",
    "    repetitions=10,\n",
    "    loss_limit=1000,\n",
    "    num_cores=4\n",
    ")\n",
    "res = experiment.design()\n",
    "\n",
    "pickle_manager.save_file('results', 'Temp_1D_pop.obj', res.pop)"
   ]
  },
  {
   "cell_type": "code",
   "execution_count": null,
   "metadata": {},
   "outputs": [],
   "source": [
    "graph_manager.build_pareto(res.F)\n",
    "graph_manager.draw()\n",
    "\n",
    "graph_manager.build_pareto(res.F)\n",
    "graph_manager.save_png('results', 'Pareto.png')\n",
    "\n",
    "display_str = input('Enter setup to display [Q to quit]: ')\n",
    "while display_str.isnumeric():\n",
    "    proposed_layout, true_temps, model_temps, sensor_values = experiment.get_SOO_plotting_arrays(res.X[int(display_str)])\n",
    "    print('\\nLoss:', experiment.calc_moo_loss(res.X[int(display_str)]))\n",
    "    graph_manager.build_1D_compare(\n",
    "        grid,\n",
    "        proposed_layout,\n",
    "        sensor_values,\n",
    "        true_temps,\n",
    "        model_temps\n",
    "    )\n",
    "    graph_manager.draw()\n",
    "    display_str = input('Enter setup to display [Q to quit]: ')"
   ]
  }
 ],
 "metadata": {
  "kernelspec": {
   "display_name": "Python 3.11.4 64-bit",
   "language": "python",
   "name": "python3"
  },
  "language_info": {
   "codemirror_mode": {
    "name": "ipython",
    "version": 3
   },
   "file_extension": ".py",
   "mimetype": "text/x-python",
   "name": "python",
   "nbconvert_exporter": "python",
   "pygments_lexer": "ipython3",
   "version": "3.11.4"
  },
  "orig_nbformat": 4,
  "vscode": {
   "interpreter": {
    "hash": "e7370f93d1d0cde622a1f8e1c04877d8463912d04d973331ad4851f04de6915a"
   }
  }
 },
 "nbformat": 4,
 "nbformat_minor": 2
}
