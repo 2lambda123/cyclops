{
 "cells": [
  {
   "cell_type": "markdown",
   "metadata": {},
   "source": [
    "# 1.1 Reading a 2D scalar field from a simulation"
   ]
  },
  {
   "cell_type": "code",
   "execution_count": null,
   "metadata": {},
   "outputs": [],
   "source": [
    "%matplotlib inline\n",
    "import sys\n",
    "import os\n",
    "\n",
    "# Sort the paths out to run from this file\n",
    "parent_path = os.path.dirname(os.getcwd())\n",
    "src_path = os.path.join(os.path.sep,parent_path, 'src')\n",
    "sys.path.append(src_path)\n",
    "print(src_path)"
   ]
  },
  {
   "cell_type": "markdown",
   "metadata": {},
   "source": [
    "First we define the objects we will use - the mesh reader (to read the mesh from the FEM file), the pickle manager (to save the mesh data that we want to analyse), and the unfolder (to manage the mesh)."
   ]
  },
  {
   "cell_type": "code",
   "execution_count": null,
   "metadata": {},
   "outputs": [],
   "source": [
    "from sim_reader import MeshReader, Unfolder\n",
    "from object_reader import PickleManager\n",
    "from regressors import LModel, CSModel\n",
    "from fields import ScalarField\n",
    "import numpy as np\n",
    "\n",
    "\n",
    "# Define the necessary objects\n",
    "reader = MeshReader('monoblock_out.e')\n",
    "pickle_manager = PickleManager()\n",
    "unfolder = Unfolder()"
   ]
  },
  {
   "cell_type": "markdown",
   "metadata": {},
   "source": [
    "Next we read the simulation data. Change the sensor_region from `right` to whatever you called the region where sensors can be placed in your FEM file.\n",
    "\n",
    "We get an array of 3D positions of all the nodes in that region in the mesh. In the monoblock file they all have x=0, but in your file they could all have z=5 or y=3 or whatever. The `compress_2D` function removes the x components so that the array becomes an array of 2D positions. You will have to redefine this function if you are analysing a different face or surface.\n",
    "\n",
    "We read all of the `temperature` values from the points in the region, and use this to define a `ScalarField`. We can then save this field, and the grid of comparison positions."
   ]
  },
  {
   "cell_type": "code",
   "execution_count": null,
   "metadata": {},
   "outputs": [],
   "source": [
    "# Read the simulation data\n",
    "sensor_region = 'right'\n",
    "pos_3D = reader.read_pos(sensor_region)\n",
    "pos_2D = unfolder.compress_2D(pos_3D)\n",
    "bounds = unfolder.find_bounds(pos_2D)\n",
    "grid = unfolder.generate_grid(bounds, 30, 30)\n",
    "\n",
    "temps = reader.read_scalar(sensor_region, 'temperature').reshape(-1, 1)\n",
    "temp_field = ScalarField(LModel, bounds)\n",
    "temp_field.fit_model(pos_2D, temps)\n",
    "\n",
    "# Save the simulation data\n",
    "pickle_manager.save_file('simulation', 'temp_plane_field.obj', temp_field)\n",
    "pickle_manager.save_file('simulation', 'temp_plane_points.obj', grid)"
   ]
  },
  {
   "cell_type": "markdown",
   "metadata": {},
   "source": [
    "We know that the field is uniform in the horizontal direction so there is no point in analysing a 2D scalar field when we could be using a 1D scalar field, so instead we compress it further into a line.\n",
    "\n",
    "We create a new `ScalarField` only this time it is 1D."
   ]
  },
  {
   "cell_type": "code",
   "execution_count": null,
   "metadata": {},
   "outputs": [],
   "source": [
    "# Now compress our nice 2D field even further into a 1D field\n",
    "pos1 = (bounds[0][0], bounds[0][1])\n",
    "pos2 = (bounds[0][0], bounds[1][1])\n",
    "line_2D = unfolder.generate_line(pos1, pos2, 50)\n",
    "line_temps = temp_field.predict_values(line_2D)\n",
    "line_1D = unfolder.compress_1D(line_2D)\n",
    "\n",
    "bounds_1D = np.array([line_1D[0], line_1D[-1]])\n",
    "new_line_field = ScalarField(CSModel, bounds_1D)\n",
    "new_line_field.fit_model(line_1D, line_temps)\n",
    "\n",
    "# Save the new 1D line field\n",
    "pickle_manager.save_file('simulation', 'temp_line_field.obj', new_line_field)\n",
    "pickle_manager.save_file('simulation', 'temp_line_points.obj', line_1D)"
   ]
  }
 ],
 "metadata": {
  "kernelspec": {
   "display_name": "Python 3.11.4 64-bit",
   "language": "python",
   "name": "python3"
  },
  "language_info": {
   "codemirror_mode": {
    "name": "ipython",
    "version": 3
   },
   "file_extension": ".py",
   "mimetype": "text/x-python",
   "name": "python",
   "nbconvert_exporter": "python",
   "pygments_lexer": "ipython3",
   "version": "3.11.4"
  },
  "orig_nbformat": 4,
  "vscode": {
   "interpreter": {
    "hash": "e7370f93d1d0cde622a1f8e1c04877d8463912d04d973331ad4851f04de6915a"
   }
  }
 },
 "nbformat": 4,
 "nbformat_minor": 2
}
