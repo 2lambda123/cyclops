{
 "cells": [
  {
   "cell_type": "markdown",
   "metadata": {},
   "source": [
    "# 2.2 SOO for 1D scalars"
   ]
  },
  {
   "cell_type": "code",
   "execution_count": 1,
   "metadata": {},
   "outputs": [
    {
     "name": "stdout",
     "output_type": "stream",
     "text": [
      "/home/luke/code/cyclops/src\n"
     ]
    }
   ],
   "source": [
    "%matplotlib inline\n",
    "import sys\n",
    "import os\n",
    "\n",
    "# Sort the paths out to run from this file\n",
    "parent_path = os.path.dirname(os.getcwd())\n",
    "src_path = os.path.join(os.path.sep,parent_path, 'src')\n",
    "sys.path.append(src_path)\n",
    "print(src_path)"
   ]
  },
  {
   "cell_type": "code",
   "execution_count": 2,
   "metadata": {},
   "outputs": [
    {
     "ename": "ModuleNotFoundError",
     "evalue": "No module named 'run_me'",
     "output_type": "error",
     "traceback": [
      "\u001b[0;31m---------------------------------------------------------------------------\u001b[0m",
      "\u001b[0;31mModuleNotFoundError\u001b[0m                       Traceback (most recent call last)",
      "\u001b[1;32m/home/luke/code/cyclops/tutorials/2.4 SOO 1D vectors.ipynb Cell 3\u001b[0m line \u001b[0;36m1\n\u001b[0;32m----> <a href='vscode-notebook-cell:/home/luke/code/cyclops/tutorials/2.4%20SOO%201D%20vectors.ipynb#W2sZmlsZQ%3D%3D?line=0'>1</a>\u001b[0m \u001b[39mfrom\u001b[39;00m \u001b[39mrun_me\u001b[39;00m \u001b[39mimport\u001b[39;00m \u001b[39m*\u001b[39m\n\u001b[1;32m      <a href='vscode-notebook-cell:/home/luke/code/cyclops/tutorials/2.4%20SOO%201D%20vectors.ipynb#W2sZmlsZQ%3D%3D?line=3'>4</a>\u001b[0m \u001b[39m# Load any objects necessary\u001b[39;00m\n\u001b[1;32m      <a href='vscode-notebook-cell:/home/luke/code/cyclops/tutorials/2.4%20SOO%201D%20vectors.ipynb#W2sZmlsZQ%3D%3D?line=4'>5</a>\u001b[0m pickle_manager \u001b[39m=\u001b[39m PickleManager()\n",
      "\u001b[0;31mModuleNotFoundError\u001b[0m: No module named 'run_me'"
     ]
    }
   ],
   "source": [
    "from run_me import *\n",
    "\n",
    "\n",
    "# Load any objects necessary\n",
    "pickle_manager = PickleManager()\n",
    "graph_manager = PlotManager()\n",
    "true_temp_field = pickle_manager.read_file('simulation', 'disp_line_field.pickle')\n",
    "grid = pickle_manager.read_file('simulation', 'disp_line_points.pickle')\n",
    "\n",
    "field_bounds = true_temp_field.get_bounds()\n",
    "sensor_bounds = field_bounds+np.array([[1], [-1]])*0.002"
   ]
  },
  {
   "cell_type": "code",
   "execution_count": null,
   "metadata": {},
   "outputs": [],
   "source": [
    "# Setup the sensor suite\n",
    "def f(x): return 0\n",
    "sensor = PointSensor(0, f, 0, np.array([[-5e10, -5e10, -5e10], [5e10, 5e10, 5e10]]), 1)\n",
    "sensors = np.array([sensor]*5)\n",
    "sensor_suite = SensorSuite(\n",
    "    VectorField(RBFModel, field_bounds), \n",
    "    sensors\n",
    ")"
   ]
  },
  {
   "cell_type": "code",
   "execution_count": null,
   "metadata": {},
   "outputs": [],
   "source": [
    "# Setup the experiment\n",
    "optimiser = PSOOptimiser('00:00:10')\n",
    "experiment = Experiment(\n",
    "    true_temp_field,\n",
    "    grid,\n",
    "    optimiser\n",
    ")\n",
    "experiment.plan_soo(\n",
    "    sensor_suite,\n",
    "    sensor_bounds\n",
    ")\n",
    "res = experiment.design()\n",
    "proposed_layout, true_disps, model_disps, sensor_vals = experiment.get_SOO_plotting_arrays(res.X)"
   ]
  },
  {
   "cell_type": "code",
   "execution_count": null,
   "metadata": {},
   "outputs": [],
   "source": [
    "mag_true_disps = np.linalg.norm(true_disps, axis=1).reshape(-1, 1)\n",
    "mag_model_disps = np.linalg.norm(model_disps, axis=1).reshape(-1, 1)\n",
    "mag_sensor_vals = np.linalg.norm(sensor_vals, axis=1).reshape(-1, 1)\n",
    "\n",
    "# Display the results\n",
    "graph_manager.build_optimisation(\n",
    "    res.history\n",
    ")\n",
    "graph_manager.draw()\n",
    "graph_manager.build_1D_compare(\n",
    "    grid,\n",
    "    proposed_layout,\n",
    "    mag_sensor_vals,\n",
    "    mag_true_disps,\n",
    "    mag_model_disps\n",
    ")"
   ]
  }
 ],
 "metadata": {
  "kernelspec": {
   "display_name": "Python 3.11.4 64-bit",
   "language": "python",
   "name": "python3"
  },
  "language_info": {
   "codemirror_mode": {
    "name": "ipython",
    "version": 3
   },
   "file_extension": ".py",
   "mimetype": "text/x-python",
   "name": "python",
   "nbconvert_exporter": "python",
   "pygments_lexer": "ipython3",
   "version": "3.10.12"
  },
  "orig_nbformat": 4,
  "vscode": {
   "interpreter": {
    "hash": "e7370f93d1d0cde622a1f8e1c04877d8463912d04d973331ad4851f04de6915a"
   }
  }
 },
 "nbformat": 4,
 "nbformat_minor": 2
}
