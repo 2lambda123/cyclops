{
 "cells": [
  {
   "cell_type": "markdown",
   "metadata": {},
   "source": [
    "# Introduction to cyclops\n",
    "\n",
    "These tutorials aim to give you an interactive introduction to cyclops.\n",
    "\n",
    "![Overview diagram](.figures/01_overview.png)"
   ]
  },
  {
   "cell_type": "markdown",
   "metadata": {},
   "source": [
    "## Function prefixes\n",
    "\n",
    "* `generate_` means generator for initialisation\n",
    "* `find_` or `calc_` means return a value involving calculation\n",
    "* `build_` means create a pyplot figure and return it without showing it\n",
    "* `plot_` function takes an axis as an argument and changes it (for instance by plotting a line on it)"
   ]
  },
  {
   "cell_type": "markdown",
   "metadata": {},
   "source": [
    "## How does cylcops work?\n",
    "\n",
    "The package was designed on the Sklearn philosopy of initialise, plan, act (https://scikit-learn.org/stable/developers/develop.html#apis-of-scikit-learn-objects).\n",
    "\n",
    "Cyclops contains a number of classes for machine learning interpolation and regression, stored in '*regressors.py*'. These have 3 key methods.\n",
    "* `__init__` where they are initialised with the correct hyperparameters.\n",
    "* `fit` where they are fitted to data.\n",
    "* `predict` where they predict an array of output data values given an array of input data values.\n",
    "The input and output data is always a 2D numpy array of the form `[[x1], [x2], [x3]] or [[x1, y1], [x2, y2], [x3, y3]]`. Not all the regressors can cope with all input data dimensions - the  `CTModel` for instance only applies to 2D input data.\n",
    "\n",
    "The `Field` objects are vector or scalar fields that use the regressors to take in a position in the field and predict the value of the field at that position. They have 3 key methods.\n",
    "* `__init__` where they are initialised with the correct parameters.\n",
    "* `fit_model` where a machine learning model is taught the field data at the known positions in the field so that it can interpolate & extrapolate.\n",
    "* `predict_values` where an array of positions is input and the predictions for the field values at those points are output.\n",
    "The simulation file provided in step 1 is converted to a field object. This is referred to as the 'True field'. Field objects are also used by the `SensorSuite` to predict the field values from sensor values.\n",
    "\n",
    "The `SensorSuite` objects contain sensors and contain use the sensor data they are given to describe a `Field` that they own. They have many different important methods.\n",
    "\n",
    "The `Experiment` object runs the experiment optimisation.\n",
    "\n",
    "After all this we analyse the results by plotting plots with the graph manager."
   ]
  },
  {
   "cell_type": "markdown",
   "metadata": {},
   "source": [
    "## What do the tutorials cover?\n",
    "\n",
    "The section 1 tutorials describe how to read a FEM mesh file into python.\n",
    "\n",
    "The section 2 tutorials describe how to perform a single-objective optimisation (SOO) on a field.\n",
    "\n",
    "The section 3 tutorials describe how to perform a multi-objective optimisation (MOO) on a field.\n",
    "\n",
    "The section 4 tutorial shows how to analyse any historic data (for instance if it's just been copied into the results folder from a supercomputer)."
   ]
  }
 ],
 "metadata": {
  "kernelspec": {
   "display_name": "Python 3.11.4 64-bit",
   "language": "python",
   "name": "python3"
  },
  "language_info": {
   "codemirror_mode": {
    "name": "ipython",
    "version": 3
   },
   "file_extension": ".py",
   "mimetype": "text/x-python",
   "name": "python",
   "nbconvert_exporter": "python",
   "pygments_lexer": "ipython3",
   "version": "3.11.4"
  },
  "orig_nbformat": 4,
  "vscode": {
   "interpreter": {
    "hash": "e7370f93d1d0cde622a1f8e1c04877d8463912d04d973331ad4851f04de6915a"
   }
  }
 },
 "nbformat": 4,
 "nbformat_minor": 2
}
