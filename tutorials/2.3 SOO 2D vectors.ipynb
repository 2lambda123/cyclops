{
 "cells": [
  {
   "cell_type": "markdown",
   "metadata": {},
   "source": [
    "# 2.3 SOO for 2D vector field"
   ]
  },
  {
   "cell_type": "code",
   "execution_count": null,
   "metadata": {},
   "outputs": [],
   "source": [
    "%matplotlib inline\n",
    "import sys\n",
    "import os\n",
    "\n",
    "# Sort the paths out to run from this file\n",
    "parent_path = os.path.dirname(os.getcwd())\n",
    "src_path = os.path.join(os.path.sep,parent_path, 'src')\n",
    "sys.path.append(src_path)\n",
    "print(src_path)"
   ]
  },
  {
   "cell_type": "markdown",
   "metadata": {},
   "source": [
    "We load the necessary objects."
   ]
  },
  {
   "cell_type": "code",
   "execution_count": null,
   "metadata": {},
   "outputs": [],
   "source": [
    "from run_me import *\n",
    "\n",
    "\n",
    "# Load any objects necessary\n",
    "pickle_manager = PickleManager()\n",
    "graph_manager = PlotManager()\n",
    "true_temp_field = pickle_manager.read_file('simulation', 'disp_plane_field.obj')\n",
    "grid = pickle_manager.read_file('simulation', 'disp_plane_points.obj')\n",
    "\n",
    "field_bounds = true_temp_field.get_bounds()\n",
    "sensor_bounds = field_bounds+np.array([[1, 1], [-1, -1]])*0.002"
   ]
  },
  {
   "cell_type": "markdown",
   "metadata": {},
   "source": [
    "We setup the sensor suite"
   ]
  },
  {
   "cell_type": "code",
   "execution_count": null,
   "metadata": {},
   "outputs": [],
   "source": [
    "# Setup the symmetry\n",
    "symmetry_manager = SymmetryManager()\n",
    "symmetry_manager.set_2D_x(np.mean(field_bounds[:, 0]))\n",
    "\n",
    "# Setup the sensor suite\n",
    "def f(x): return np.zeros(x.shape)\n",
    "sensor = PointSensor(0, f, 0, np.array([[-5e10, -5e10, -5e10], [5e10, 5e10, 5e10]]), 2)\n",
    "sensors = np.array([sensor]*5)\n",
    "\n",
    "sensor_suite = SensorSuite(\n",
    "    VectorField(RBFModel, field_bounds), \n",
    "    sensors,\n",
    "    symmetry=[symmetry_manager.reflect_2D_horiz]\n",
    ")"
   ]
  },
  {
   "cell_type": "markdown",
   "metadata": {},
   "source": [
    "We setup the optimisation."
   ]
  },
  {
   "cell_type": "code",
   "execution_count": null,
   "metadata": {},
   "outputs": [],
   "source": [
    "# Setup the experiment\n",
    "optimiser = PSOOptimiser('00:00:10')\n",
    "experiment = Experiment(\n",
    "    true_temp_field,\n",
    "    grid,\n",
    "    optimiser\n",
    ")\n",
    "experiment.plan_soo(\n",
    "    sensor_suite,\n",
    "    sensor_bounds\n",
    ")\n",
    "res = experiment.design()\n",
    "proposed_layout, true_disps, model_disps, sensor_vals = experiment.get_SOO_plotting_arrays(res.X)"
   ]
  },
  {
   "cell_type": "markdown",
   "metadata": {},
   "source": [
    "We plot the mangitudes of the fields to compare."
   ]
  },
  {
   "cell_type": "code",
   "execution_count": null,
   "metadata": {},
   "outputs": [],
   "source": [
    "mag_true_disps = np.linalg.norm(true_disps, axis=1).reshape(-1, 1)\n",
    "mag_model_disps = np.linalg.norm(model_disps, axis=1).reshape(-1, 1)\n",
    "mag_sensor_vals = np.linalg.norm(sensor_vals, axis=1).reshape(-1, 1)\n",
    "\n",
    "# Display the results\n",
    "graph_manager.build_optimisation(\n",
    "    res.history\n",
    ")\n",
    "graph_manager.draw()\n",
    "graph_manager.build_2D_compare(\n",
    "    grid,\n",
    "    proposed_layout,\n",
    "    mag_true_disps,\n",
    "    mag_model_disps\n",
    ")\n",
    "graph_manager.draw()\n",
    "graph_manager.build_3D_compare(\n",
    "    grid,\n",
    "    mag_true_disps,\n",
    "    mag_model_disps\n",
    ")\n",
    "graph_manager.draw()"
   ]
  }
 ],
 "metadata": {
  "kernelspec": {
   "display_name": "Python 3.11.4 64-bit",
   "language": "python",
   "name": "python3"
  },
  "language_info": {
   "codemirror_mode": {
    "name": "ipython",
    "version": 3
   },
   "file_extension": ".py",
   "mimetype": "text/x-python",
   "name": "python",
   "nbconvert_exporter": "python",
   "pygments_lexer": "ipython3",
   "version": "3.11.4"
  },
  "orig_nbformat": 4,
  "vscode": {
   "interpreter": {
    "hash": "e7370f93d1d0cde622a1f8e1c04877d8463912d04d973331ad4851f04de6915a"
   }
  }
 },
 "nbformat": 4,
 "nbformat_minor": 2
}
