{
 "cells": [
  {
   "cell_type": "markdown",
   "metadata": {},
   "source": [
    "# 4.0 Results analysis"
   ]
  },
  {
   "cell_type": "code",
   "execution_count": 1,
   "metadata": {},
   "outputs": [
    {
     "ename": "FileNotFoundError",
     "evalue": "[Errno 2] No such file or directory: 'results/temp_1D_res_RBF5.pickle'",
     "output_type": "error",
     "traceback": [
      "\u001b[0;31m---------------------------------------------------------------------------\u001b[0m",
      "\u001b[0;31mFileNotFoundError\u001b[0m                         Traceback (most recent call last)",
      "\u001b[1;32m/home/luke/code/cyclops/tutorials/4.0 results analysis.ipynb Cell 2\u001b[0m line \u001b[0;36m1\n\u001b[1;32m     <a href='vscode-notebook-cell:/home/luke/code/cyclops/tutorials/4.0%20results%20analysis.ipynb#W2sZmlsZQ%3D%3D?line=13'>14</a>\u001b[0m true_temp_field \u001b[39m=\u001b[39m pickle_manager\u001b[39m.\u001b[39mread_file(\u001b[39m'\u001b[39m\u001b[39mresults/temp_line_field.pickle\u001b[39m\u001b[39m'\u001b[39m)\n\u001b[1;32m     <a href='vscode-notebook-cell:/home/luke/code/cyclops/tutorials/4.0%20results%20analysis.ipynb#W2sZmlsZQ%3D%3D?line=14'>15</a>\u001b[0m grid \u001b[39m=\u001b[39m pickle_manager\u001b[39m.\u001b[39mread_file(\u001b[39m'\u001b[39m\u001b[39mresults/temp_line_points.pickle\u001b[39m\u001b[39m'\u001b[39m)\n\u001b[0;32m---> <a href='vscode-notebook-cell:/home/luke/code/cyclops/tutorials/4.0%20results%20analysis.ipynb#W2sZmlsZQ%3D%3D?line=15'>16</a>\u001b[0m res \u001b[39m=\u001b[39m pickle_manager\u001b[39m.\u001b[39;49mread_file(\u001b[39m'\u001b[39;49m\u001b[39mresults/temp_1D_res_RBF5.pickle\u001b[39;49m\u001b[39m'\u001b[39;49m)\n\u001b[1;32m     <a href='vscode-notebook-cell:/home/luke/code/cyclops/tutorials/4.0%20results%20analysis.ipynb#W2sZmlsZQ%3D%3D?line=16'>17</a>\u001b[0m field_bounds \u001b[39m=\u001b[39m true_temp_field\u001b[39m.\u001b[39mget_bounds()\n\u001b[1;32m     <a href='vscode-notebook-cell:/home/luke/code/cyclops/tutorials/4.0%20results%20analysis.ipynb#W2sZmlsZQ%3D%3D?line=17'>18</a>\u001b[0m sensor_bounds \u001b[39m=\u001b[39m field_bounds\u001b[39m+\u001b[39mnp\u001b[39m.\u001b[39marray([[\u001b[39m1\u001b[39m], [\u001b[39m-\u001b[39m\u001b[39m1\u001b[39m]])\u001b[39m*\u001b[39m\u001b[39m0.002\u001b[39m\n",
      "File \u001b[0;32m~/code/cyclops/src/cyclops/object_reader.py:39\u001b[0m, in \u001b[0;36mPickleManager.read_file\u001b[0;34m(self, file_path)\u001b[0m\n\u001b[1;32m     30\u001b[0m \u001b[39m\u001b[39m\u001b[39m\"\"\"Read an object instance from a .pickle file and return it.\u001b[39;00m\n\u001b[1;32m     31\u001b[0m \n\u001b[1;32m     32\u001b[0m \u001b[39mArgs:\u001b[39;00m\n\u001b[0;32m   (...)\u001b[0m\n\u001b[1;32m     36\u001b[0m \u001b[39m    object_to_return (object): the object instance loaded from file.\u001b[39;00m\n\u001b[1;32m     37\u001b[0m \u001b[39m\"\"\"\u001b[39;00m\n\u001b[1;32m     38\u001b[0m file_path \u001b[39m=\u001b[39m pathlib\u001b[39m.\u001b[39mPath(file_path)\n\u001b[0;32m---> 39\u001b[0m \u001b[39mwith\u001b[39;00m \u001b[39mopen\u001b[39;49m(file_path, \u001b[39m\"\u001b[39;49m\u001b[39mrb\u001b[39;49m\u001b[39m\"\u001b[39;49m) \u001b[39mas\u001b[39;00m file:\n\u001b[1;32m     40\u001b[0m     object_to_return \u001b[39m=\u001b[39m pickle\u001b[39m.\u001b[39mload(file)\n\u001b[1;32m     41\u001b[0m \u001b[39mreturn\u001b[39;00m object_to_return\n",
      "\u001b[0;31mFileNotFoundError\u001b[0m: [Errno 2] No such file or directory: 'results/temp_1D_res_RBF5.pickle'"
     ]
    }
   ],
   "source": [
    "import numpy as np\n",
    "from cyclops.experiment import Experiment\n",
    "from cyclops.fields import ScalarField\n",
    "from cyclops.object_reader import PickleManager\n",
    "from cyclops.optimisers import NSGA2Optimiser\n",
    "from cyclops.plotting import PlotManager\n",
    "from cyclops.regressors import RBFModel\n",
    "from cyclops.sensor_suite import SensorSuite\n",
    "from cyclops.sensors import Thermocouple\n",
    "\n",
    "# Load any objects necessary\n",
    "pickle_manager = PickleManager()\n",
    "graph_manager = PlotManager()\n",
    "true_temp_field = pickle_manager.read_file('results/temp_line_field.pickle')\n",
    "grid = pickle_manager.read_file('results/temp_line_points.pickle')\n",
    "res = pickle_manager.read_file('results/temp_1D_res_RBF5.pickle')\n",
    "field_bounds = true_temp_field.get_bounds()\n",
    "sensor_bounds = field_bounds+np.array([[1], [-1]])*0.002\n",
    "\n",
    "# Setup the experiment\n",
    "optimiser = NSGA2Optimiser('00:00:10')\n",
    "experiment = Experiment(\n",
    "    true_temp_field,\n",
    "    grid,\n",
    "    optimiser\n",
    ")\n",
    "\n",
    "# Setup the sensor suite\n",
    "temps = pickle_manager.read_file('../sensors/k-type-T.pickle')\n",
    "voltages = pickle_manager.read_file('../sensors/k-type-V.pickle')\n",
    "sensor = Thermocouple(temps, voltages, 1)\n",
    "sensors = np.array([sensor]*5)\n",
    "\n",
    "sensor_suite = SensorSuite(\n",
    "    ScalarField(RBFModel, field_bounds), \n",
    "    sensors\n",
    ")\n",
    "experiment.plan_moo(\n",
    "    sensor_suite,\n",
    "    sensor_bounds,\n",
    "    repetitions=10,\n",
    "    loss_limit=1000,\n",
    "    num_cores=4\n",
    ")"
   ]
  },
  {
   "cell_type": "markdown",
   "metadata": {},
   "source": [
    "This code is for when you get the results from the supercomputer then copy them into the results folder and want to analyse them. Remember that you must setup the experiment and sensor layout with the same parameters."
   ]
  },
  {
   "cell_type": "code",
   "execution_count": null,
   "metadata": {},
   "outputs": [
    {
     "ename": "NameError",
     "evalue": "name 'res' is not defined",
     "output_type": "error",
     "traceback": [
      "\u001b[0;31m---------------------------------------------------------------------------\u001b[0m",
      "\u001b[0;31mNameError\u001b[0m                                 Traceback (most recent call last)",
      "\u001b[1;32m/home/luke/code/cyclops/tutorials/4.0 results analysis.ipynb Cell 4\u001b[0m line \u001b[0;36m1\n\u001b[0;32m----> <a href='vscode-notebook-cell:/home/luke/code/cyclops/tutorials/4.0%20results%20analysis.ipynb#W4sZmlsZQ%3D%3D?line=0'>1</a>\u001b[0m graph_manager\u001b[39m.\u001b[39mbuild_pareto(res\u001b[39m.\u001b[39mF)\n\u001b[1;32m      <a href='vscode-notebook-cell:/home/luke/code/cyclops/tutorials/4.0%20results%20analysis.ipynb#W4sZmlsZQ%3D%3D?line=1'>2</a>\u001b[0m graph_manager\u001b[39m.\u001b[39mdraw()\n\u001b[1;32m      <a href='vscode-notebook-cell:/home/luke/code/cyclops/tutorials/4.0%20results%20analysis.ipynb#W4sZmlsZQ%3D%3D?line=3'>4</a>\u001b[0m graph_manager\u001b[39m.\u001b[39mbuild_pareto(res\u001b[39m.\u001b[39mF)\n",
      "\u001b[0;31mNameError\u001b[0m: name 'res' is not defined"
     ]
    }
   ],
   "source": [
    "graph_manager.build_pareto(res.F)\n",
    "graph_manager.draw()\n",
    "\n",
    "graph_manager.build_pareto(res.F)\n",
    "\n",
    "display_str = input('Enter setup to display [Q to quit]: ')\n",
    "while display_str.isnumeric():\n",
    "    proposed_layout, true_temps, model_temps, sensor_values = experiment.get_SOO_plotting_arrays(res.X[int(display_str)])\n",
    "    print('\\nLoss:', experiment.calc_moo_loss(res.X[int(display_str)]))\n",
    "    graph_manager.build_1D_compare(\n",
    "        grid,\n",
    "        proposed_layout,\n",
    "        sensor_values,\n",
    "        true_temps,\n",
    "        model_temps\n",
    "    )\n",
    "    graph_manager.draw()\n",
    "    display_str = input('Enter setup to display [Q to quit]: ')"
   ]
  }
 ],
 "metadata": {
  "kernelspec": {
   "display_name": "Python 3.11.4 64-bit",
   "language": "python",
   "name": "python3"
  },
  "language_info": {
   "codemirror_mode": {
    "name": "ipython",
    "version": 3
   },
   "file_extension": ".py",
   "mimetype": "text/x-python",
   "name": "python",
   "nbconvert_exporter": "python",
   "pygments_lexer": "ipython3",
   "version": "3.10.12"
  },
  "orig_nbformat": 4,
  "vscode": {
   "interpreter": {
    "hash": "e7370f93d1d0cde622a1f8e1c04877d8463912d04d973331ad4851f04de6915a"
   }
  }
 },
 "nbformat": 4,
 "nbformat_minor": 2
}
