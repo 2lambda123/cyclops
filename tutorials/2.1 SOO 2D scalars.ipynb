{
 "cells": [
  {
   "cell_type": "markdown",
   "metadata": {},
   "source": [
    "# 2.1 SOO for 2D scalar field"
   ]
  },
  {
   "cell_type": "code",
   "execution_count": 1,
   "metadata": {},
   "outputs": [
    {
     "name": "stdout",
     "output_type": "stream",
     "text": [
      "/home/luke/code/cyclops/src\n"
     ]
    }
   ],
   "source": [
    "%matplotlib inline\n",
    "import sys\n",
    "import os\n",
    "\n",
    "# Sort the paths out to run from this file\n",
    "parent_path = os.path.dirname(os.getcwd())\n",
    "src_path = os.path.join(os.path.sep,parent_path, 'src')\n",
    "sys.path.append(src_path)\n",
    "print(src_path)"
   ]
  },
  {
   "cell_type": "markdown",
   "metadata": {},
   "source": [
    "We load the stored true fields that we read in chapter 1 of the manual. We also load the graph manager to display the results.\n",
    "\n",
    "We get the boundaries of the field, and make sure that sensors can't be placed at the very edge but must be placed at least 2mm away."
   ]
  },
  {
   "cell_type": "code",
   "execution_count": 2,
   "metadata": {},
   "outputs": [
    {
     "ename": "ModuleNotFoundError",
     "evalue": "No module named 'run_me'",
     "output_type": "error",
     "traceback": [
      "\u001b[0;31m---------------------------------------------------------------------------\u001b[0m",
      "\u001b[0;31mModuleNotFoundError\u001b[0m                       Traceback (most recent call last)",
      "\u001b[1;32m/home/luke/code/cyclops/tutorials/2.1 SOO 2D scalars.ipynb Cell 4\u001b[0m line \u001b[0;36m1\n\u001b[0;32m----> <a href='vscode-notebook-cell:/home/luke/code/cyclops/tutorials/2.1%20SOO%202D%20scalars.ipynb#W3sZmlsZQ%3D%3D?line=0'>1</a>\u001b[0m \u001b[39mfrom\u001b[39;00m \u001b[39mrun_me\u001b[39;00m \u001b[39mimport\u001b[39;00m \u001b[39m*\u001b[39m\n\u001b[1;32m      <a href='vscode-notebook-cell:/home/luke/code/cyclops/tutorials/2.1%20SOO%202D%20scalars.ipynb#W3sZmlsZQ%3D%3D?line=3'>4</a>\u001b[0m \u001b[39m# Load any objects necessary\u001b[39;00m\n\u001b[1;32m      <a href='vscode-notebook-cell:/home/luke/code/cyclops/tutorials/2.1%20SOO%202D%20scalars.ipynb#W3sZmlsZQ%3D%3D?line=4'>5</a>\u001b[0m pickle_manager \u001b[39m=\u001b[39m PickleManager()\n",
      "\u001b[0;31mModuleNotFoundError\u001b[0m: No module named 'run_me'"
     ]
    }
   ],
   "source": [
    "from run_me import *\n",
    "\n",
    "\n",
    "# Load any objects necessary\n",
    "pickle_manager = PickleManager()\n",
    "graph_manager = PlotManager()\n",
    "true_temp_field = pickle_manager.read_file('simulation', 'temp_plane_field.pickle')\n",
    "grid = pickle_manager.read_file('simulation', 'temp_plane_points.pickle')\n",
    "\n",
    "field_bounds = true_temp_field.get_bounds()\n",
    "sensor_bounds = field_bounds+np.array([[1, 1], [-1, -1]])*0.002"
   ]
  },
  {
   "cell_type": "markdown",
   "metadata": {},
   "source": [
    "We use the symmetry manager to force any assumptions about planes of symmetry that we might make.\n",
    "\n",
    "We then setup the sensor suite, and you can uncomment the code below to find out how to use a MultiSensor (that finds the value at many points - like a DIC or an IR camera)."
   ]
  },
  {
   "cell_type": "code",
   "execution_count": null,
   "metadata": {},
   "outputs": [],
   "source": [
    "# Setup the symmetry\n",
    "symmetry_manager = SymmetryManager()\n",
    "symmetry_manager.set_2D_x(np.mean(field_bounds[:, 0]))\n",
    "\n",
    "# Setup the sensor suite\n",
    "def f(x): return np.zeros(x.shape)\n",
    "sensor = RoundSensor(0, f, 0, np.array([[-5000], [5000]]), 0, 2)\n",
    "sensors = np.array([sensor]*5)\n",
    "\n",
    "# def f(x): return np.zeros(x.shape)\n",
    "# sensor = MultiSensor(0, f, 0.1, np.array([[-5000], [5000]]), np.linspace(sensor_bounds[0, 0], sensor_bounds[1, 0], 10).reshape(-1, 2))\n",
    "# sensors = np.array([sensor])\n",
    "\n",
    "sensor_suite = SensorSuite(\n",
    "    ScalarField(RBFModel, field_bounds), \n",
    "    sensors,\n",
    "    symmetry=[symmetry_manager.reflect_2D_horiz]\n",
    ")"
   ]
  },
  {
   "cell_type": "markdown",
   "metadata": {},
   "source": [
    "We define the optimiser. You can change up the parameters including the time it takes to optimise for, and the type of optimiser (GAOptimiser is the only other SOO optimiser). Also look at the optional arguments you can use - for instance specifying how many cores you want the optimisation to run on in the plan_soo function."
   ]
  },
  {
   "cell_type": "code",
   "execution_count": null,
   "metadata": {},
   "outputs": [],
   "source": [
    "# Setup the experiment\n",
    "optimiser = PSOOptimiser('00:00:10')\n",
    "experiment = Experiment(\n",
    "    true_temp_field,\n",
    "    grid,\n",
    "    optimiser\n",
    ")\n",
    "experiment.plan_soo(\n",
    "    sensor_suite,\n",
    "    sensor_bounds\n",
    ")\n",
    "res = experiment.design()\n",
    "proposed_layout, true_temps, model_temps, sensor_values = experiment.get_SOO_plotting_arrays(res.X)"
   ]
  },
  {
   "cell_type": "code",
   "execution_count": null,
   "metadata": {},
   "outputs": [],
   "source": [
    "# Display the results\n",
    "graph_manager.build_optimisation(\n",
    "    res.history\n",
    ")\n",
    "graph_manager.draw()\n",
    "graph_manager.build_2D_compare(\n",
    "    grid,\n",
    "    proposed_layout,\n",
    "    true_temps,\n",
    "    model_temps\n",
    ")\n",
    "graph_manager.draw()\n",
    "graph_manager.build_3D_compare(\n",
    "    grid,\n",
    "    true_temps,\n",
    "    model_temps\n",
    ")\n",
    "graph_manager.draw()"
   ]
  }
 ],
 "metadata": {
  "kernelspec": {
   "display_name": "Python 3.11.4 64-bit",
   "language": "python",
   "name": "python3"
  },
  "language_info": {
   "codemirror_mode": {
    "name": "ipython",
    "version": 3
   },
   "file_extension": ".py",
   "mimetype": "text/x-python",
   "name": "python",
   "nbconvert_exporter": "python",
   "pygments_lexer": "ipython3",
   "version": "3.10.12"
  },
  "orig_nbformat": 4,
  "vscode": {
   "interpreter": {
    "hash": "e7370f93d1d0cde622a1f8e1c04877d8463912d04d973331ad4851f04de6915a"
   }
  }
 },
 "nbformat": 4,
 "nbformat_minor": 2
}
