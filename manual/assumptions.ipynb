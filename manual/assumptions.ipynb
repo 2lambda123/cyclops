{
 "cells": [
  {
   "cell_type": "markdown",
   "metadata": {},
   "source": [
    "# Assumptions\n",
    "\n",
    "Reading the FEM file:\n",
    "* The error from interpolating between the FEM nodes with a function other than the FEM shape function is negligible.\n",
    "\n",
    "\n",
    "Optimisation:\n",
    "* The FEM temperature field and ML temperature field can be compared well by calculating the MSE between them at many points.\n",
    "* The heuristic NSGA-II method will produce Pareto-optimal results after a long enough time.\n",
    "* When so many sensors fail that there are not enough working sensors to use the ML algorithm we count the loss as being no bigger than the greatest loss calculated up to that point.\n",
    "\n",
    "\n",
    "Thermocouples:\n",
    "* The thermocouples measure the average temperature in a specific circular region.\n",
    "* The thermocouples have a normally distributed random error with a standard deviation equal to 1/3 of 2.2 degrees.\n",
    "* The thermocouples' voltage is converted to temperature using a linear fit (introducing systematic errors).\n",
    "\n"
   ]
  }
 ],
 "metadata": {
  "kernelspec": {
   "display_name": "Python 3.11.4 64-bit",
   "language": "python",
   "name": "python3"
  },
  "language_info": {
   "name": "python",
   "version": "3.11.4"
  },
  "orig_nbformat": 4,
  "vscode": {
   "interpreter": {
    "hash": "e7370f93d1d0cde622a1f8e1c04877d8463912d04d973331ad4851f04de6915a"
   }
  }
 },
 "nbformat": 4,
 "nbformat_minor": 2
}
