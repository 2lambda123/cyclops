{
 "cells": [
  {
   "cell_type": "markdown",
   "metadata": {},
   "source": [
    "# Easy use\n",
    "\n",
    "This file allows you to use the entire software package yourself, with minimal programming!"
   ]
  },
  {
   "cell_type": "code",
   "execution_count": 2,
   "metadata": {},
   "outputs": [
    {
     "name": "stdout",
     "output_type": "stream",
     "text": [
      "/home/dharrington/cyclops/src\n"
     ]
    }
   ],
   "source": [
    "%matplotlib inline\n",
    "import sys\n",
    "import os\n",
    "\n",
    "# Sort the paths out to run from this file\n",
    "parent_path = os.path.dirname(os.getcwd())\n",
    "src_path = os.path.join(os.path.sep,parent_path, 'src')\n",
    "sys.path.append(src_path)\n",
    "print(src_path)"
   ]
  },
  {
   "cell_type": "markdown",
   "metadata": {},
   "source": [
    "## Step 1 - simulation to csv"
   ]
  },
  {
   "cell_type": "code",
   "execution_count": 3,
   "metadata": {},
   "outputs": [
    {
     "name": "stdout",
     "output_type": "stream",
     "text": [
      "\n",
      "Reading file...\n",
      "<meshio mesh object>\n",
      "  Number of points: 87200\n",
      "  Number of cells:\n",
      "    hexahedron27: 2016\n",
      "    hexahedron27: 3360\n",
      "    hexahedron27: 4704\n",
      "  Point sets: right, top, left, , centre_x_bottom_y_back_z, centre_x_bottom_y_front_z, left_x_bottom_y_centre_z, right_x_bottom_y_centre_z\n",
      "  Point data: disp_x, disp_y, disp_z, temperature\n",
      "  Cell data: vonmises_stress\n"
     ]
    }
   ],
   "source": [
    "from read_exodus import *\n",
    "\n",
    "\n",
    "reader = ExodusReader('monoblock_out.e')\n",
    "pickle_manager = PickleManager()\n",
    "\n",
    "sensor_region = 'right'\n",
    "pos_3D = reader.read_pos(sensor_region)\n",
    "temps = reader.read_scalar(sensor_region, 'temperature')\n",
    "\n",
    "pos_2D = compress_2D(pos_3D)\n",
    "bounds = find_bounds(pos_2D)\n",
    "grid = generate_grid(bounds, 30, 30)\n",
    "\n",
    "temp_field = ScalarField(LModel, bounds, 2)\n",
    "temp_field.fit_model(pos_2D, temps)\n",
    "\n",
    "pickle_manager.save_file('simulation', 'field_temp.obj', temp_field)\n",
    "pickle_manager.save_file('simulation', 'grid.obj', grid)"
   ]
  }
 ],
 "metadata": {
  "kernelspec": {
   "display_name": "Python 3.11.4 64-bit",
   "language": "python",
   "name": "python3"
  },
  "language_info": {
   "codemirror_mode": {
    "name": "ipython",
    "version": 3
   },
   "file_extension": ".py",
   "mimetype": "text/x-python",
   "name": "python",
   "nbconvert_exporter": "python",
   "pygments_lexer": "ipython3",
   "version": "3.11.4"
  },
  "orig_nbformat": 4,
  "vscode": {
   "interpreter": {
    "hash": "e7370f93d1d0cde622a1f8e1c04877d8463912d04d973331ad4851f04de6915a"
   }
  }
 },
 "nbformat": 4,
 "nbformat_minor": 2
}
