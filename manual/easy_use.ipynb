{
 "cells": [
  {
   "cell_type": "markdown",
   "metadata": {},
   "source": [
    "# Easy use\n",
    "\n",
    "This file allows you to use the entire software package yourself, with minimal programming!"
   ]
  },
  {
   "cell_type": "code",
   "execution_count": 1,
   "metadata": {},
   "outputs": [
    {
     "name": "stdout",
     "output_type": "stream",
     "text": [
      "/home/dharrington/cyclops/src\n"
     ]
    }
   ],
   "source": [
    "%matplotlib inline\n",
    "import sys\n",
    "import os\n",
    "\n",
    "# Sort the paths out to run from this file\n",
    "parent_path = os.path.dirname(os.getcwd())\n",
    "src_path = os.path.join(os.path.sep,parent_path, 'src')\n",
    "sys.path.append(src_path)\n",
    "print(src_path)"
   ]
  },
  {
   "cell_type": "markdown",
   "metadata": {},
   "source": [
    "## Step 1 - simulation to csv\n"
   ]
  },
  {
   "cell_type": "code",
   "execution_count": null,
   "metadata": {},
   "outputs": [],
   "source": [
    "from read_exodus import *\n",
    "\n",
    "\n",
    "\n",
    "reader = ExodusReader('monoblock_out.e')\n",
    "pickle_manager = PickleManager()\n",
    "\n",
    "sensor_region = 'right'\n",
    "pos_3D = reader.read_pos(sensor_region)\n",
    "temps = reader.read_scalar(sensor_region, 'temperature')\n",
    "\n",
    "disp = np.array([\n",
    "    reader.read_scalar(sensor_region, 'disp_x'),\n",
    "    reader.read_scalar(sensor_region, 'disp_y'),\n",
    "    reader.read_scalar(sensor_region, 'disp_z')\n",
    "]).T\n",
    "\n",
    "pos_2D = compress_2D(pos_3D)\n",
    "bounds = find_bounds(pos_2D)\n",
    "grid = generate_grid(bounds, 30, 30)\n",
    "\n",
    "temp_field = ScalarField(LModel, bounds, 2)\n",
    "temp_field.fit_model(pos_2D, temps)\n",
    "\n",
    "disp_field = VectorField(LModel, bounds, 2)\n",
    "disp_field.fit_model(pos_2D, disp)\n",
    "\n",
    "pickle_manager.save_file('simulation', 'field_temp.obj', temp_field)\n",
    "pickle_manager.save_file('simulation', 'field_disp.obj', disp_field)\n",
    "pickle_manager.save_file('simulation', 'grid.obj', grid)"
   ]
  }
 ],
 "metadata": {
  "kernelspec": {
   "display_name": "Python 3.11.4 64-bit",
   "language": "python",
   "name": "python3"
  },
  "language_info": {
   "codemirror_mode": {
    "name": "ipython",
    "version": 3
   },
   "file_extension": ".py",
   "mimetype": "text/x-python",
   "name": "python",
   "nbconvert_exporter": "python",
   "pygments_lexer": "ipython3",
   "version": "3.11.4"
  },
  "orig_nbformat": 4,
  "vscode": {
   "interpreter": {
    "hash": "e7370f93d1d0cde622a1f8e1c04877d8463912d04d973331ad4851f04de6915a"
   }
  }
 },
 "nbformat": 4,
 "nbformat_minor": 2
}
