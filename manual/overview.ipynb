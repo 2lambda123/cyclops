{
 "cells": [
  {
   "cell_type": "markdown",
   "metadata": {},
   "source": [
    "# Introduction to cyclops\n",
    "\n",
    "This manual hopes to give you a brief overview of how cyclops works. After reading this we recommend you go straight to the '*easy_use.ipynb*' file to run some optimisations to familiarise yourself with everything."
   ]
  },
  {
   "cell_type": "markdown",
   "metadata": {},
   "source": [
    "## Function naming\n",
    "\n",
    "* `get_` means getter\n",
    "* `set_` means setter\n",
    "* `generate_` means generator for initialisation\n",
    "* `find_` means return a value involving calculation\n",
    "* `draw_` means show and close a pyplot figure\n",
    "* `build_` means create a pyplot figure and return it without showing it\n",
    "* `plot_` means plot a python graph on a given axis"
   ]
  },
  {
   "cell_type": "markdown",
   "metadata": {},
   "source": [
    "## What cyclops does\n",
    "\n",
    "The user provides a Finite Element Method (FEM) simulation file of the object to be experimented on (and optionally data about the non-linearity of their sensors).\n",
    "\n",
    "They convert the non-linear sensor data to a csv format by running '*src/thermocouple_reader.py*'.\n",
    "\n",
    "They convert the temperature field of the potential faces that sensors can be placed on their object into a rectangular grid (either using a pre-defined function or after writing their own custom method) by running '*src/exodus_reader.py*'.\n",
    "\n",
    "Then by running '*src/run_me.py*' we can optimise the sensor positions on the potential faces.\n",
    "\n",
    " \n",
    "\n",
    "![Overview diagram](overview_diagram.jpg \"Title\")"
   ]
  },
  {
   "cell_type": "markdown",
   "metadata": {},
   "source": [
    "## How does cyclops work?\n",
    "\n",
    "The optimiser is NSGA-II which is a genetic algorithm so works by generating a population of potential sensor placements and then evolving them towards the Pareto optimal sensor placements (where there is no way to improve the reliability or accuracy without harming the other).\n",
    "\n",
    "Given a set of positions for thermocouples we calculate the temperatures at those positions using the FEM simulation data, and take the non-idealities of the thermocouples into account to calculate the thermocouple measurements. Based off the thermocouple measurements we use a machine learning regression model to predict the temperatures throughout the rest of the temperature field.\n",
    "\n",
    "We look at all the setups where less than 4 sensors fail to estimate the expected loss and the expected chance of a successful reconstruction (where the sum of the mean squared error between the temperatures at various points in the FEM and ML temperature fields is below a certain `LOSS_LIMIT`). We assume that the setups where 4 or more sensors fail are so unlikely they have no significant impact on the expected loss, and that all of them result in unsuccessful reconstructions. Otherwise the program would go from taking days to weeks to run."
   ]
  }
 ],
 "metadata": {
  "kernelspec": {
   "display_name": "Python 3.11.4 64-bit",
   "language": "python",
   "name": "python3"
  },
  "language_info": {
   "codemirror_mode": {
    "name": "ipython",
    "version": 3
   },
   "file_extension": ".py",
   "mimetype": "text/x-python",
   "name": "python",
   "nbconvert_exporter": "python",
   "pygments_lexer": "ipython3",
   "version": "3.11.4"
  },
  "orig_nbformat": 4,
  "vscode": {
   "interpreter": {
    "hash": "e7370f93d1d0cde622a1f8e1c04877d8463912d04d973331ad4851f04de6915a"
   }
  }
 },
 "nbformat": 4,
 "nbformat_minor": 2
}
