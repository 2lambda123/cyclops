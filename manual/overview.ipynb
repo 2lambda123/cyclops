{
 "cells": [
  {
   "cell_type": "markdown",
   "metadata": {},
   "source": [
    "# Introduction to Cyclops\n",
    "\n",
    "This is a short introduction to the cyclops package for optimal sensor placement. For every file in the src folder I have made a short notebook explaining the various functions. This file is intended to act as an overview to show how the various files fit together.\n",
    "\n",
    "After reading this manual page, read the various examples.\n",
    "\n",
    "\n",
    "# Cyclops structure\n",
    "\n",
    "The manual folder (this folder) contains a manual describing how to use the package.\n",
    "\n",
    "The results folder contains the results of the simulations. These results may take the form of a .png image of a Pareto frontier, a .pdf file containing all the simulated sensor setups for a specific sensor layout or the 'best_setups.txt' file that contains the coordinates of the sensor setups.\n",
    "\n",
    "The simulation folder contains files describing the non-linear behaviour of the sensors and an exodus file, 'monoblock_out.e' that describes the temperature field that a MOOSE finite element method (FEM) simulation predicts the experiment will produce. If you have another simulation file you want to simulate you can put it in this folder. The exodus files are read with a library called meshio that means that the code should work (although I have not tested this yet) if your FEM simulation produces another file format such as .vtk or .inp.\n",
    "\n",
    "The src folder contains the python files that perform the analysis and optimisation.\n",
    "\n",
    "\n",
    "# How does Cyclops work?\n",
    "\n",
    "The FEM is read in from the simulation folder by the 'exodus_reader.py' file. This allows you to choose a specific face and rearrange the mesh (using linear interpolation) into a uniform mesh, and this data is output to a .csv file in the simulation folder. The reason why we do this is so we don't have to read the FEM mesh every time we want to run the simulation (as it takes ages to be read).\n",
    "\n",
    "The only other file you have to run is the 'run_me.py' file. \n",
    "\n",
    "This will use the 'optimisers.py' file to optimise (using NGSA-II) the sensor positions based on the number of sensors specified in the 'run_me.py' file. \n",
    "\n",
    "The efficacy of a sensor layout is calculated in the 'model_management.py' file where the .csv temperatures are read (and modified by the 'sensors.py' file) to get the thermocouple values, and these thermocouple values are then used to produce a machine learning model of the face (using a machine learning model from 'face_model.py'). \n",
    "\n",
    "The reliability and accuracy of this machine learning model is evaluated in the 'model_management.py' file (again) and these values are ones optimised.\n",
    "\n",
    "The results are saved to a .txt file using the 'results_management.py' file, and graphs and pdfs are produced by the 'graph_management.py' file.\n",
    "\n",
    "The only other file is the 'thermocouple_reader.py' file which converts the unstructured data for k-type thermocouples found online into a structured .csv format.\n",
    "\n",
    "\n"
   ]
  }
 ],
 "metadata": {
  "kernelspec": {
   "display_name": "Python 3.11.4 64-bit",
   "language": "python",
   "name": "python3"
  },
  "language_info": {
   "name": "python",
   "version": "3.11.4"
  },
  "orig_nbformat": 4,
  "vscode": {
   "interpreter": {
    "hash": "e7370f93d1d0cde622a1f8e1c04877d8463912d04d973331ad4851f04de6915a"
   }
  }
 },
 "nbformat": 4,
 "nbformat_minor": 2
}
