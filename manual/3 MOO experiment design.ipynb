{
 "cells": [
  {
   "cell_type": "markdown",
   "metadata": {},
   "source": [
    "# MOO experiment design\n",
    "\n",
    "We show you how to optimise your experiment to maximise both the accuracy and reliability of the experiment. Unfortunately these programs will take significantly longer to run than the SOO programs as more must be simulated."
   ]
  },
  {
   "cell_type": "code",
   "execution_count": 2,
   "metadata": {},
   "outputs": [
    {
     "name": "stdout",
     "output_type": "stream",
     "text": [
      "/home/dharrington/cyclops/src\n"
     ]
    }
   ],
   "source": [
    "%matplotlib inline\n",
    "import sys\n",
    "import os\n",
    "\n",
    "# Sort the paths out to run from this file\n",
    "parent_path = os.path.dirname(os.getcwd())\n",
    "src_path = os.path.join(os.path.sep,parent_path, 'src')\n",
    "sys.path.append(src_path)\n",
    "print(src_path)"
   ]
  },
  {
   "cell_type": "markdown",
   "metadata": {},
   "source": [
    "## MOO for 2D field\n",
    "\n",
    "description..."
   ]
  },
  {
   "cell_type": "code",
   "execution_count": 4,
   "metadata": {},
   "outputs": [
    {
     "name": "stdout",
     "output_type": "stream",
     "text": [
      "==========================================================\n",
      "n_gen  |  n_eval  | n_nds  |      eps      |   indicator  \n",
      "==========================================================\n",
      "     1 |       40 |      1 |             - |             -\n",
      "     2 |       50 |      1 |  2.839149E+02 |         ideal\n",
      "     3 |       60 |      1 |  0.000000E+00 |             f\n",
      "     4 |       70 |      1 |  4.992137E+02 |         ideal\n",
      "     5 |       80 |      1 |  8.368244E+01 |         ideal\n",
      "     6 |       90 |      1 |  0.000000E+00 |             f\n",
      "     7 |      100 |      1 |  0.000000E+00 |             f\n",
      "     8 |      110 |      1 |  0.000000E+00 |             f\n",
      "     9 |      120 |      1 |  0.000000E+00 |             f\n",
      "    10 |      130 |      1 |  0.000000E+00 |             f\n",
      "    11 |      140 |      1 |  0.000000E+00 |             f\n",
      "    12 |      150 |      1 |  0.000000E+00 |             f\n",
      "    13 |      160 |      1 |  0.000000E+00 |             f\n",
      "    14 |      170 |      1 |  0.000000E+00 |             f\n",
      "    15 |      180 |      1 |  0.000000E+00 |             f\n",
      "    16 |      190 |      1 |  6.162690E+01 |         ideal\n",
      "    17 |      200 |      1 |  0.000000E+00 |             f\n",
      "    18 |      210 |      1 |  0.000000E+00 |             f\n",
      "    19 |      220 |      1 |  0.000000E+00 |             f\n",
      "    20 |      230 |      1 |  1.943182E+01 |         ideal\n",
      "    21 |      240 |      1 |  1.053791E+02 |         ideal\n",
      "    22 |      250 |      1 |  0.000000E+00 |             f\n",
      "    23 |      260 |      1 |  2.295633E+02 |         ideal\n",
      "    24 |      270 |      1 |  0.000000E+00 |             f\n"
     ]
    },
    {
     "data": {
      "image/png": "[encoded data removed]",
      "text/plain": [
       "<Figure size 576x432 with 1 Axes>"
      ]
     },
     "metadata": {
      "needs_background": "light"
     },
     "output_type": "display_data"
    },
    {
     "name": "stdout",
     "output_type": "stream",
     "text": [
      "[[ 0.00481948  0.01836114  0.00339165  0.01164849  0.00272236  0.00454267\n",
      "   0.00217712 -0.0068843   0.00766382 -0.01103441]]\n"
     ]
    }
   ],
   "source": [
    "from run_me import *\n",
    "\n",
    "\n",
    "# Load any objects necessary\n",
    "pickle_manager = PickleManager()\n",
    "graph_manager = GraphManager()\n",
    "true_temp_field = pickle_manager.read_file('simulation', 'field_temp.obj')\n",
    "grid = pickle_manager.read_file('simulation', 'grid_temp.obj')\n",
    "\n",
    "bounds = true_temp_field.get_bounds()\n",
    "sensor_bounds = bounds+np.array([[1, 1], [-1, -1]])*0.002\n",
    "\n",
    "# Setup the symmetry\n",
    "symmetry_manager = SymmetryManager()\n",
    "symmetry_manager.set_2D_x(np.mean(bounds[:, 0]))\n",
    "\n",
    "# Setup the sensor suite\n",
    "temps = pickle_manager.read_file('sensors', 'k-type-T.obj')\n",
    "voltages = pickle_manager.read_file('sensors', 'k-type-V.obj')\n",
    "sensor = Thermocouple(temps, voltages)\n",
    "sensors = np.array([sensor]*5)\n",
    "sensor_suite = SensorSuite(\n",
    "    ScalarField(RBFModel, bounds, true_temp_field.get_dim()), \n",
    "    sensors,\n",
    "    symmetry=[symmetry_manager.reflect_2D_horiz]\n",
    ")\n",
    "\n",
    "# Setup the experiment\n",
    "optimiser = NSGA2Optimiser('00:00:10')\n",
    "experiment = Experiment(\n",
    "    true_temp_field,\n",
    "    grid,\n",
    "    optimiser\n",
    ")\n",
    "experiment.plan_moo(\n",
    "    sensor_suite,\n",
    "    sensor_bounds\n",
    ")\n",
    "res = experiment.design()\n",
    "\n",
    "\n",
    "# Display the results\n",
    "graph_manager.draw(graph_manager.build_pareto(\n",
    "    res.F\n",
    "))\n",
    "\n",
    "print(res.X)"
   ]
  },
  {
   "cell_type": "markdown",
   "metadata": {},
   "source": [
    "## MOO for 1D field\n",
    "\n",
    "description..."
   ]
  },
  {
   "cell_type": "code",
   "execution_count": 3,
   "metadata": {},
   "outputs": [
    {
     "name": "stdout",
     "output_type": "stream",
     "text": [
      "==========================================================\n",
      "n_gen  |  n_eval  | n_nds  |      eps      |   indicator  \n",
      "==========================================================\n",
      "     1 |       40 |      2 |             - |             -\n",
      "     2 |       50 |      2 |  0.0532879687 |         ideal\n",
      "     3 |       60 |      2 |  0.000000E+00 |             f\n",
      "     4 |       70 |      2 |  0.0184157388 |         ideal\n",
      "     5 |       80 |      2 |  0.000000E+00 |             f\n",
      "     6 |       90 |      2 |  0.000000E+00 |             f\n",
      "     7 |      100 |      2 |  0.000000E+00 |             f\n",
      "     8 |      110 |      2 |  0.000000E+00 |             f\n",
      "     9 |      120 |      2 |  0.000000E+00 |             f\n",
      "    10 |      130 |      2 |  0.000000E+00 |             f\n",
      "    11 |      140 |      2 |  0.0314596739 |         ideal\n",
      "    12 |      150 |      2 |  0.000000E+00 |             f\n",
      "    13 |      160 |      2 |  0.000000E+00 |             f\n",
      "    14 |      170 |      2 |  0.000000E+00 |             f\n",
      "    15 |      180 |      2 |  0.000000E+00 |             f\n",
      "    16 |      190 |      2 |  0.000000E+00 |             f\n",
      "    17 |      200 |      2 |  0.0086217516 |         nadir\n",
      "    18 |      210 |      2 |  0.000000E+00 |             f\n",
      "    19 |      220 |      2 |  0.0000809778 |             f\n",
      "    20 |      230 |      2 |  0.0000809778 |             f\n",
      "    21 |      240 |      2 |  0.0000809778 |             f\n",
      "    22 |      250 |      2 |  0.0000809778 |             f\n",
      "    23 |      260 |      2 |  0.0000809778 |             f\n",
      "    24 |      270 |      2 |  0.0000809778 |             f\n",
      "    25 |      280 |      2 |  0.0000809778 |             f\n",
      "    26 |      290 |      2 |  0.0000809778 |             f\n",
      "    27 |      300 |      2 |  0.0000809778 |             f\n"
     ]
    },
    {
     "data": {
      "image/png": "[encoded data removed]",
      "text/plain": [
       "<Figure size 576x432 with 1 Axes>"
      ]
     },
     "metadata": {
      "needs_background": "light"
     },
     "output_type": "display_data"
    },
    {
     "name": "stdout",
     "output_type": "stream",
     "text": [
      "[[0.00903794 0.03000477 0.01978692 0.00205581 0.02113149]\n",
      " [0.00566041 0.03297827 0.02306597 0.00206779 0.0098221 ]]\n"
     ]
    }
   ],
   "source": [
    "from run_me import *\n",
    "\n",
    "\n",
    "# Load any objects necessary\n",
    "pickle_manager = PickleManager()\n",
    "graph_manager = GraphManager()\n",
    "true_temp_field = pickle_manager.read_file('simulation', 'field_temp_line.obj')\n",
    "grid = pickle_manager.read_file('simulation', 'line_temp.obj')\n",
    "\n",
    "bounds = true_temp_field.get_bounds()\n",
    "sensor_bounds = bounds + np.array([[1], [-1]])*0.002\n",
    "\n",
    "# Setup the sensor suite\n",
    "temps = pickle_manager.read_file('sensors', 'k-type-T.obj')\n",
    "voltages = pickle_manager.read_file('sensors', 'k-type-V.obj')\n",
    "sensor = Thermocouple(temps, voltages)\n",
    "sensors = np.array([sensor]*5)\n",
    "sensor_suite = SensorSuite(\n",
    "    ScalarField(CSModel, bounds, true_temp_field.get_dim()), \n",
    "    sensors,\n",
    "    symmetry=[]\n",
    ")\n",
    "\n",
    "# Setup the experiment\n",
    "optimiser = NSGA2Optimiser('00:00:10')\n",
    "experiment = Experiment(\n",
    "    true_temp_field,\n",
    "    grid,\n",
    "    optimiser\n",
    ")\n",
    "experiment.plan_moo(\n",
    "    sensor_suite,\n",
    "    sensor_bounds\n",
    ")\n",
    "res = experiment.design()\n",
    "\n",
    "\n",
    "# Display the results\n",
    "graph_manager.draw(graph_manager.build_pareto(\n",
    "    res.F\n",
    "))\n",
    "\n",
    "print(res.X)"
   ]
  }
 ],
 "metadata": {
  "kernelspec": {
   "display_name": "Python 3.11.4 64-bit",
   "language": "python",
   "name": "python3"
  },
  "language_info": {
   "codemirror_mode": {
    "name": "ipython",
    "version": 3
   },
   "file_extension": ".py",
   "mimetype": "text/x-python",
   "name": "python",
   "nbconvert_exporter": "python",
   "pygments_lexer": "ipython3",
   "version": "3.11.4"
  },
  "orig_nbformat": 4,
  "vscode": {
   "interpreter": {
    "hash": "e7370f93d1d0cde622a1f8e1c04877d8463912d04d973331ad4851f04de6915a"
   }
  }
 },
 "nbformat": 4,
 "nbformat_minor": 2
}
