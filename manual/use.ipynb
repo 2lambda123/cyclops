{
 "cells": [
  {
   "cell_type": "markdown",
   "metadata": {},
   "source": [
    "# Use\n",
    "\n",
    "This file explains how to use the software package yourself, and contains some examples at the bottom of the page.\n",
    "\n",
    "\n",
    "# Step 1 - simulation\n",
    "\n",
    "Simulate the temperature field for the experiment you want to optimise in MOOSE.\n",
    "\n",
    "Copy the resulting exodus file into the simulation folder.\n",
    "\n",
    "Open 'exodus_reader.py' "
   ]
  }
 ],
 "metadata": {
  "kernelspec": {
   "display_name": "Python 3.11.4 64-bit",
   "language": "python",
   "name": "python3"
  },
  "language_info": {
   "name": "python",
   "version": "3.11.4"
  },
  "orig_nbformat": 4,
  "vscode": {
   "interpreter": {
    "hash": "e7370f93d1d0cde622a1f8e1c04877d8463912d04d973331ad4851f04de6915a"
   }
  }
 },
 "nbformat": 4,
 "nbformat_minor": 2
}
