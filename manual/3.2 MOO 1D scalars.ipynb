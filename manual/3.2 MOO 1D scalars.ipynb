{
 "cells": [
  {
   "cell_type": "markdown",
   "metadata": {},
   "source": [
    "# 3.2 MOO for 1D scalar fields"
   ]
  },
  {
   "cell_type": "code",
   "execution_count": 1,
   "metadata": {},
   "outputs": [
    {
     "name": "stdout",
     "output_type": "stream",
     "text": [
      "/home/dharrington/cyclops/src\n"
     ]
    }
   ],
   "source": [
    "%matplotlib inline\n",
    "import sys\n",
    "import os\n",
    "\n",
    "# Sort the paths out to run from this file\n",
    "parent_path = os.path.dirname(os.getcwd())\n",
    "src_path = os.path.join(os.path.sep,parent_path, 'src')\n",
    "sys.path.append(src_path)\n",
    "print(src_path)"
   ]
  },
  {
   "cell_type": "markdown",
   "metadata": {},
   "source": [
    "description"
   ]
  },
  {
   "cell_type": "code",
   "execution_count": 2,
   "metadata": {},
   "outputs": [],
   "source": [
    "from run_me import *\n",
    "\n",
    "\n",
    "# Load any objects necessary\n",
    "pickle_manager = PickleManager()\n",
    "graph_manager = GraphManager()\n",
    "true_temp_field = pickle_manager.read_file('simulation', 'temp_line_field.obj')\n",
    "grid = pickle_manager.read_file('simulation', 'temp_line_points.obj')\n",
    "\n",
    "field_bounds = true_temp_field.get_bounds()\n",
    "sensor_bounds = field_bounds+np.array([[1], [-1]])*0.002"
   ]
  },
  {
   "cell_type": "markdown",
   "metadata": {},
   "source": [
    "description"
   ]
  },
  {
   "cell_type": "code",
   "execution_count": 3,
   "metadata": {},
   "outputs": [],
   "source": [
    "# Setup the sensor suite\n",
    "temps = pickle_manager.read_file('sensors', 'k-type-T.obj')\n",
    "voltages = pickle_manager.read_file('sensors', 'k-type-V.obj')\n",
    "sensor = Thermocouple(temps, voltages, 1)\n",
    "sensors = np.array([sensor]*5)\n",
    "\n",
    "sensor_suite = SensorSuite(\n",
    "    ScalarField(RBFModel, field_bounds), \n",
    "    sensors\n",
    ")"
   ]
  },
  {
   "cell_type": "markdown",
   "metadata": {},
   "source": [
    "description"
   ]
  },
  {
   "cell_type": "code",
   "execution_count": 4,
   "metadata": {},
   "outputs": [
    {
     "name": "stdout",
     "output_type": "stream",
     "text": [
      "==========================================================\n",
      "n_gen  |  n_eval  | n_nds  |      eps      |   indicator  \n",
      "==========================================================\n",
      "     1 |       40 |      2 |             - |             -\n",
      "     2 |       50 |      2 |  0.3533803395 |         ideal\n",
      "     3 |       60 |      2 |  0.000000E+00 |             f\n",
      "     4 |       70 |      3 |  0.5000000000 |         ideal\n",
      "     5 |       80 |      3 |  0.3754549686 |         ideal\n",
      "     6 |       90 |      4 |  0.2000000000 |         ideal\n",
      "     7 |      100 |      4 |  0.000000E+00 |             f\n",
      "     8 |      110 |      4 |  0.0162521413 |         ideal\n",
      "     9 |      120 |      4 |  0.000000E+00 |             f\n",
      "    10 |      130 |      4 |  0.000000E+00 |             f\n",
      "    11 |      140 |      5 |  0.0406888241 |             f\n",
      "    12 |      150 |      5 |  0.000000E+00 |             f\n",
      "    13 |      160 |      1 |  6.574442E+02 |         ideal\n",
      "    14 |      170 |      1 |  0.000000E+00 |             f\n",
      "    15 |      180 |      1 |  1.348318E+01 |         ideal\n",
      "    16 |      190 |      1 |  0.000000E+00 |             f\n",
      "    17 |      200 |      1 |  0.000000E+00 |             f\n",
      "    18 |      210 |      1 |  2.526945E+02 |         ideal\n",
      "    19 |      220 |      1 |  0.000000E+00 |             f\n",
      "    20 |      230 |      1 |  0.000000E+00 |             f\n",
      "    21 |      240 |      1 |  7.923767E+01 |         ideal\n",
      "    22 |      250 |      1 |  0.000000E+00 |             f\n",
      "    23 |      260 |      1 |  0.000000E+00 |             f\n",
      "    24 |      270 |      1 |  0.000000E+00 |             f\n",
      "    25 |      280 |      1 |  2.311875E+01 |         ideal\n",
      "    26 |      290 |      1 |  0.000000E+00 |             f\n",
      "    27 |      300 |      1 |  0.000000E+00 |             f\n",
      "    28 |      310 |      1 |  3.745736E+01 |         ideal\n",
      "    29 |      320 |      1 |  2.755698E+01 |         ideal\n",
      "    30 |      330 |      1 |  0.000000E+00 |             f\n",
      "    31 |      340 |      1 |  0.000000E+00 |             f\n",
      "    32 |      350 |      1 |  1.986953E+01 |         ideal\n",
      "    33 |      360 |      1 |  0.000000E+00 |             f\n",
      "    34 |      370 |      1 |  2.827473E+01 |         ideal\n",
      "    35 |      380 |      2 |  1.0000000000 |         ideal\n",
      "    36 |      390 |      2 |  0.000000E+00 |             f\n",
      "    37 |      400 |      2 |  0.3743313174 |         ideal\n",
      "    38 |      410 |      2 |  0.2680913539 |         nadir\n",
      "    39 |      420 |      2 |  0.000000E+00 |             f\n",
      "    40 |      430 |      1 |  1.896134E+01 |         ideal\n",
      "    41 |      440 |      1 |  0.000000E+00 |             f\n",
      "    42 |      450 |      1 |  0.000000E+00 |             f\n",
      "    43 |      460 |      1 |  0.000000E+00 |             f\n",
      "    44 |      470 |      1 |  0.000000E+00 |             f\n",
      "    45 |      480 |      1 |  0.7699750817 |         ideal\n",
      "    46 |      490 |      1 |  0.2944323990 |         ideal\n",
      "    47 |      500 |      1 |  0.8061384564 |         ideal\n",
      "    48 |      510 |      1 |  0.000000E+00 |             f\n",
      "    49 |      520 |      1 |  0.5568102998 |         ideal\n",
      "    50 |      530 |      1 |  2.7946187028 |         ideal\n",
      "    51 |      540 |      1 |  0.000000E+00 |             f\n",
      "    52 |      550 |      1 |  1.205166E+01 |         ideal\n",
      "    53 |      560 |      1 |  0.000000E+00 |             f\n",
      "    54 |      570 |      1 |  0.000000E+00 |             f\n",
      "    55 |      580 |      1 |  0.0014678400 |             f\n",
      "    56 |      590 |      1 |  4.1636042473 |         ideal\n",
      "    57 |      600 |      1 |  0.000000E+00 |             f\n",
      "    58 |      610 |      1 |  0.000000E+00 |             f\n",
      "    59 |      620 |      1 |  0.000000E+00 |             f\n",
      "    60 |      630 |      1 |  0.000000E+00 |             f\n",
      "    61 |      640 |      1 |  3.7478543567 |         ideal\n",
      "    62 |      650 |      1 |  0.000000E+00 |             f\n",
      "    63 |      660 |      1 |  0.000000E+00 |             f\n",
      "    64 |      670 |      1 |  2.4256667220 |         ideal\n",
      "    65 |      680 |      1 |  0.000000E+00 |             f\n",
      "    66 |      690 |      1 |  0.4528955131 |         ideal\n",
      "    67 |      700 |      1 |  0.000000E+00 |             f\n",
      "    68 |      710 |      1 |  0.000000E+00 |             f\n",
      "    69 |      720 |      1 |  0.000000E+00 |             f\n",
      "    70 |      730 |      1 |  2.8195101418 |         ideal\n",
      "    71 |      740 |      1 |  0.000000E+00 |             f\n",
      "    72 |      750 |      1 |  2.5671072559 |         ideal\n",
      "    73 |      760 |      1 |  0.000000E+00 |             f\n",
      "    74 |      770 |      1 |  0.000000E+00 |             f\n",
      "    75 |      780 |      1 |  0.000000E+00 |             f\n",
      "    76 |      790 |      1 |  0.000000E+00 |             f\n",
      "    77 |      800 |      1 |  1.7034658624 |         ideal\n",
      "    78 |      810 |      1 |  0.000000E+00 |             f\n",
      "    79 |      820 |      1 |  0.000000E+00 |             f\n",
      "    80 |      830 |      1 |  0.000000E+00 |             f\n",
      "    81 |      840 |      1 |  4.5663178778 |         ideal\n",
      "    82 |      850 |      1 |  3.2165591740 |         ideal\n",
      "    83 |      860 |      1 |  0.000000E+00 |             f\n",
      "    84 |      870 |      1 |  0.000000E+00 |             f\n",
      "    85 |      880 |      1 |  0.000000E+00 |             f\n",
      "    86 |      890 |      1 |  0.000000E+00 |             f\n",
      "    87 |      900 |      1 |  0.4920637150 |         ideal\n",
      "    88 |      910 |      1 |  8.3990575405 |         ideal\n",
      "    89 |      920 |      1 |  0.000000E+00 |             f\n",
      "    90 |      930 |      1 |  0.000000E+00 |             f\n",
      "    91 |      940 |      1 |  0.000000E+00 |             f\n",
      "    92 |      950 |      1 |  0.000000E+00 |             f\n",
      "    93 |      960 |      1 |  0.000000E+00 |             f\n",
      "    94 |      970 |      1 |  0.000000E+00 |             f\n",
      "    95 |      980 |      1 |  0.000000E+00 |             f\n",
      "    96 |      990 |      1 |  0.000000E+00 |             f\n",
      "    97 |     1000 |      1 |  0.000000E+00 |             f\n",
      "    98 |     1010 |      1 |  0.000000E+00 |             f\n",
      "    99 |     1020 |      1 |  0.000000E+00 |             f\n",
      "   100 |     1030 |      1 |  0.000000E+00 |             f\n",
      "   101 |     1040 |      1 |  0.000000E+00 |             f\n",
      "   102 |     1050 |      1 |  0.000000E+00 |             f\n",
      "   103 |     1060 |      1 |  0.000000E+00 |             f\n"
     ]
    }
   ],
   "source": [
    "# Setup the experiment\n",
    "optimiser = NSGA2Optimiser('00:00:10')\n",
    "experiment = Experiment(\n",
    "    true_temp_field,\n",
    "    grid,\n",
    "    optimiser\n",
    ")\n",
    "experiment.plan_moo(\n",
    "    sensor_suite,\n",
    "    sensor_bounds,\n",
    "    repetitions=10,\n",
    "    loss_limit=1000\n",
    ")\n",
    "res = experiment.design()\n",
    "\n",
    "pickle_manager.save_file('results', 'Temp_1D_pop.obj', res.pop)"
   ]
  },
  {
   "cell_type": "markdown",
   "metadata": {},
   "source": [
    "description"
   ]
  },
  {
   "cell_type": "code",
   "execution_count": 5,
   "metadata": {},
   "outputs": [
    {
     "data": {
      "image/png": "[encoded data removed]",
      "text/plain": [
       "<Figure size 576x432 with 1 Axes>"
      ]
     },
     "metadata": {
      "needs_background": "light"
     },
     "output_type": "display_data"
    },
    {
     "name": "stdout",
     "output_type": "stream",
     "text": [
      "\n",
      "Loss: [531.5029489380839, 0.1]\n"
     ]
    },
    {
     "data": {
      "image/png": "[encoded data removed]",
      "text/plain": [
       "<Figure size 1296x360 with 2 Axes>"
      ]
     },
     "metadata": {
      "needs_background": "light"
     },
     "output_type": "display_data"
    }
   ],
   "source": [
    "graph_manager.build_pareto(res.F)\n",
    "graph_manager.draw()\n",
    "\n",
    "graph_manager.build_pareto(res.F)\n",
    "graph_manager.save_png('results', 'Pareto.png')\n",
    "\n",
    "display_str = input('Enter setup to display [Q to quit]: ')\n",
    "while display_str.isnumeric():\n",
    "    proposed_layout, true_temps, model_temps, sensor_values = experiment.get_SOO_plotting_arrays(res.X[int(display_str)])\n",
    "    print('\\nLoss:', experiment.calc_MOO_loss(res.X[int(display_str)]))\n",
    "    graph_manager.build_1D_compare(\n",
    "        grid,\n",
    "        proposed_layout,\n",
    "        sensor_values,\n",
    "        true_temps,\n",
    "        model_temps\n",
    "    )\n",
    "    graph_manager.draw()\n",
    "    display_str = input('Enter setup to display [Q to quit]: ')"
   ]
  }
 ],
 "metadata": {
  "kernelspec": {
   "display_name": "Python 3.11.4 64-bit",
   "language": "python",
   "name": "python3"
  },
  "language_info": {
   "codemirror_mode": {
    "name": "ipython",
    "version": 3
   },
   "file_extension": ".py",
   "mimetype": "text/x-python",
   "name": "python",
   "nbconvert_exporter": "python",
   "pygments_lexer": "ipython3",
   "version": "3.11.4"
  },
  "orig_nbformat": 4,
  "vscode": {
   "interpreter": {
    "hash": "e7370f93d1d0cde622a1f8e1c04877d8463912d04d973331ad4851f04de6915a"
   }
  }
 },
 "nbformat": 4,
 "nbformat_minor": 2
}
