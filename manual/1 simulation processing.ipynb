{
 "cells": [
  {
   "cell_type": "markdown",
   "metadata": {},
   "source": [
    "# Simulation processing\n",
    "\n",
    "Here we have some examples about how to process a simulation and save it in the simulation folder ready for optimisation. We have to run the code in the cell below to allow the paths to work in this notebook."
   ]
  },
  {
   "cell_type": "code",
   "execution_count": 1,
   "metadata": {},
   "outputs": [
    {
     "name": "stdout",
     "output_type": "stream",
     "text": [
      "/home/dharrington/cyclops/src\n"
     ]
    }
   ],
   "source": [
    "%matplotlib inline\n",
    "import sys\n",
    "import os\n",
    "\n",
    "# Sort the paths out to run from this file\n",
    "parent_path = os.path.dirname(os.getcwd())\n",
    "src_path = os.path.join(os.path.sep,parent_path, 'src')\n",
    "sys.path.append(src_path)\n",
    "print(src_path)"
   ]
  },
  {
   "cell_type": "markdown",
   "metadata": {},
   "source": [
    "## Reading a 2D scalar field from a simulation\n",
    "\n",
    "\n",
    "In this code we have a 3D simulation file ('monoblock_out.e') which has one face of its surface labelled 'right'. We read this file and create a 2D scalar field from it's relevant face, plus a grid of comparision points for the optimisation loss function.\n",
    "\n",
    "Change:\n",
    "1. Simulation file name `monoblock_out.e`\n",
    "2. Sensor region from `right`\n",
    "3. Variable name from `temperature`\n",
    "4. Names of the grid and field from `test_scalar_field.obj` and `test_grid.obj`"
   ]
  },
  {
   "cell_type": "code",
   "execution_count": 2,
   "metadata": {},
   "outputs": [
    {
     "name": "stdout",
     "output_type": "stream",
     "text": [
      "<meshio mesh object>\n",
      "  Number of points: 87200\n",
      "  Number of cells:\n",
      "    hexahedron27: 2016\n",
      "    hexahedron27: 3360\n",
      "    hexahedron27: 4704\n",
      "  Point sets: right, top, left, , centre_x_bottom_y_back_z, centre_x_bottom_y_front_z, left_x_bottom_y_centre_z, right_x_bottom_y_centre_z\n",
      "  Point data: disp_x, disp_y, disp_z, temperature\n",
      "  Cell data: vonmises_stress\n"
     ]
    }
   ],
   "source": [
    "from sim_reader import *\n",
    "\n",
    "\n",
    "# Define the necessary objects\n",
    "reader = ExodusReader('monoblock_out.e')\n",
    "pickle_manager = PickleManager()\n",
    "unfolder = Unfolder()\n",
    "\n",
    "# Read the simulation data\n",
    "sensor_region = 'right'\n",
    "pos_3D = reader.read_pos(sensor_region)\n",
    "pos_2D = unfolder.compress_2D(pos_3D)\n",
    "bounds = unfolder.find_bounds(pos_2D)\n",
    "grid = unfolder.generate_grid(bounds, 30, 30)\n",
    "\n",
    "temps = reader.read_scalar(sensor_region, 'temperature')\n",
    "temp_field = ScalarField(LModel, bounds, 2)\n",
    "temp_field.fit_model(pos_2D, temps)\n",
    "\n",
    "# Save the simulation data\n",
    "pickle_manager.save_file('simulation', 'field_temp.obj', temp_field)\n",
    "pickle_manager.save_file('simulation', 'grid_temp.obj', grid)"
   ]
  },
  {
   "cell_type": "markdown",
   "metadata": {},
   "source": [
    "## Reading a 2D vector field from a simulation\n",
    "\n",
    "We do the same as above, except for a vector field not a scalar field. Note that the ExodusReader will break any vectors into their components when it reads them, so you should look in the code above to check what your components have been renamed as. For the 'monoblock_out.e' case the disp vector has been broken down into `disp_x`, `disp_y` and `disp_z`."
   ]
  },
  {
   "cell_type": "code",
   "execution_count": 3,
   "metadata": {},
   "outputs": [
    {
     "name": "stdout",
     "output_type": "stream",
     "text": [
      "<meshio mesh object>\n",
      "  Number of points: 87200\n",
      "  Number of cells:\n",
      "    hexahedron27: 2016\n",
      "    hexahedron27: 3360\n",
      "    hexahedron27: 4704\n",
      "  Point sets: right, top, left, , centre_x_bottom_y_back_z, centre_x_bottom_y_front_z, left_x_bottom_y_centre_z, right_x_bottom_y_centre_z\n",
      "  Point data: disp_x, disp_y, disp_z, temperature\n",
      "  Cell data: vonmises_stress\n"
     ]
    }
   ],
   "source": [
    "from sim_reader import *\n",
    "\n",
    "\n",
    "# Define the necessary objects\n",
    "reader = ExodusReader('monoblock_out.e')\n",
    "pickle_manager = PickleManager()\n",
    "unfolder = Unfolder()\n",
    "\n",
    "# Read the simulation data\n",
    "sensor_region = 'right'\n",
    "pos_3D = reader.read_pos(sensor_region)\n",
    "pos_2D = unfolder.compress_2D(pos_3D)\n",
    "bounds = unfolder.find_bounds(pos_2D)\n",
    "grid = unfolder.generate_grid(bounds, 30, 30)\n",
    "\n",
    "disp = np.array([\n",
    "    reader.read_scalar(sensor_region, 'disp_x'),\n",
    "    reader.read_scalar(sensor_region, 'disp_y'),\n",
    "    reader.read_scalar(sensor_region, 'disp_z')\n",
    "]).T\n",
    "\n",
    "disp_field = VectorField(LModel, bounds, 2)\n",
    "disp_field.fit_model(pos_2D, disp)\n",
    "\n",
    "# Save the simulation data\n",
    "pickle_manager.save_file('simulation', 'field_disp.obj', disp_field)\n",
    "pickle_manager.save_file('simulation', 'grid_disp.obj', grid)"
   ]
  },
  {
   "cell_type": "markdown",
   "metadata": {},
   "source": [
    "## Reading a 1D scalar line from a field\n",
    "\n",
    "Of course you can read in a 1D scalar line directly from a simulation file, but in our case we don't have a 1D scalar line simulation file. However, we know that the Monoblock field is uniform on the 'right' face so we can compress it to a line to speed up the optimisation by reducing the search space. Note that the last number in the ScalarField constructor has been changed to 1 as the line-field is only 1 dimensional."
   ]
  },
  {
   "cell_type": "code",
   "execution_count": 4,
   "metadata": {},
   "outputs": [
    {
     "name": "stdout",
     "output_type": "stream",
     "text": [
      "<meshio mesh object>\n",
      "  Number of points: 87200\n",
      "  Number of cells:\n",
      "    hexahedron27: 2016\n",
      "    hexahedron27: 3360\n",
      "    hexahedron27: 4704\n",
      "  Point sets: right, top, left, , centre_x_bottom_y_back_z, centre_x_bottom_y_front_z, left_x_bottom_y_centre_z, right_x_bottom_y_centre_z\n",
      "  Point data: disp_x, disp_y, disp_z, temperature\n",
      "  Cell data: vonmises_stress\n"
     ]
    }
   ],
   "source": [
    "from sim_reader import *\n",
    "\n",
    "# Define the necessary objects\n",
    "reader = ExodusReader('monoblock_out.e')\n",
    "pickle_manager = PickleManager()\n",
    "unfolder = Unfolder()\n",
    "\n",
    "# Read the simulation data\n",
    "sensor_region = 'right'\n",
    "pos_3D = reader.read_pos(sensor_region)\n",
    "pos_2D = unfolder.compress_2D(pos_3D)\n",
    "bounds = unfolder.find_bounds(pos_2D)\n",
    "temps = reader.read_scalar(sensor_region, 'temperature')\n",
    "\n",
    "# Define the 2D field objects\n",
    "temp_field = ScalarField(LModel, bounds, 2)\n",
    "temp_field.fit_model(pos_2D, temps)\n",
    "\n",
    "# Convert the 2D field to a 1D line\n",
    "pos1 = (bounds[0][0], bounds[0][1])\n",
    "pos2 = (bounds[0][0], bounds[1][1])\n",
    "line_2D = unfolder.generate_line(pos1, pos2, 50)\n",
    "line_temps = temp_field.predict_values(line_2D)\n",
    "line_1D = unfolder.compress_1D(line_2D)\n",
    "\n",
    "bounds_1D = [line_1D[0], line_1D[-1]]\n",
    "new_line_field = ScalarField(CSModel, bounds_1D, 1)\n",
    "new_line_field.fit_model(line_1D, line_temps)\n",
    "\n",
    "# Save the new 1D line field\n",
    "pickle_manager.save_file('simulation', 'field_temp_line.obj', new_line_field)\n",
    "pickle_manager.save_file('simulation', 'line_temp.obj', line_1D)"
   ]
  },
  {
   "cell_type": "markdown",
   "metadata": {},
   "source": [
    "## Reading a vector line from a field\n",
    "\n",
    "We'll do the same thing only for displacement."
   ]
  },
  {
   "cell_type": "code",
   "execution_count": 5,
   "metadata": {},
   "outputs": [
    {
     "name": "stdout",
     "output_type": "stream",
     "text": [
      "<meshio mesh object>\n",
      "  Number of points: 87200\n",
      "  Number of cells:\n",
      "    hexahedron27: 2016\n",
      "    hexahedron27: 3360\n",
      "    hexahedron27: 4704\n",
      "  Point sets: right, top, left, , centre_x_bottom_y_back_z, centre_x_bottom_y_front_z, left_x_bottom_y_centre_z, right_x_bottom_y_centre_z\n",
      "  Point data: disp_x, disp_y, disp_z, temperature\n",
      "  Cell data: vonmises_stress\n"
     ]
    }
   ],
   "source": [
    "from sim_reader import *\n",
    "\n",
    "# Define the necessary objects\n",
    "reader = ExodusReader('monoblock_out.e')\n",
    "pickle_manager = PickleManager()\n",
    "unfolder = Unfolder()\n",
    "\n",
    "# Read the simulation data\n",
    "sensor_region = 'right'\n",
    "pos_3D = reader.read_pos(sensor_region)\n",
    "pos_2D = unfolder.compress_2D(pos_3D)\n",
    "bounds = unfolder.find_bounds(pos_2D)\n",
    "\n",
    "disp = np.array([\n",
    "    reader.read_scalar(sensor_region, 'disp_x'),\n",
    "    reader.read_scalar(sensor_region, 'disp_y'),\n",
    "    reader.read_scalar(sensor_region, 'disp_z')\n",
    "]).T\n",
    "\n",
    "disp_field = VectorField(LModel, bounds, 2)\n",
    "disp_field.fit_model(pos_2D, disp)\n",
    "\n",
    "# Convert the 2D field to a 1D line\n",
    "pos1 = (bounds[0][0], bounds[0][1])\n",
    "pos2 = (bounds[0][0], bounds[1][1])\n",
    "line_2D = unfolder.generate_line(pos1, pos2, 50)\n",
    "line_disps = disp_field.predict_values(line_2D)\n",
    "line_1D = unfolder.compress_1D(line_2D)\n",
    "\n",
    "bounds_1D = [line_1D[0], line_1D[-1]]\n",
    "new_line_field = VectorField(CSModel, bounds_1D, 1)\n",
    "new_line_field.fit_model(line_1D, line_disps)\n",
    "\n",
    "# Save the new 1D line field\n",
    "pickle_manager.save_file('simulation', 'field_disp_line.obj', new_line_field)\n",
    "pickle_manager.save_file('simulation', 'line_disp.obj', line_1D)"
   ]
  }
 ],
 "metadata": {
  "kernelspec": {
   "display_name": "Python 3.11.4 64-bit",
   "language": "python",
   "name": "python3"
  },
  "language_info": {
   "codemirror_mode": {
    "name": "ipython",
    "version": 3
   },
   "file_extension": ".py",
   "mimetype": "text/x-python",
   "name": "python",
   "nbconvert_exporter": "python",
   "pygments_lexer": "ipython3",
   "version": "3.11.4"
  },
  "orig_nbformat": 4,
  "vscode": {
   "interpreter": {
    "hash": "e7370f93d1d0cde622a1f8e1c04877d8463912d04d973331ad4851f04de6915a"
   }
  }
 },
 "nbformat": 4,
 "nbformat_minor": 2
}
