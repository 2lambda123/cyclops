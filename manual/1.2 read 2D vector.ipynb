{
 "cells": [
  {
   "cell_type": "markdown",
   "metadata": {},
   "source": [
    "# 1.2 Reading a 2D vector field from a simulation"
   ]
  },
  {
   "cell_type": "code",
   "execution_count": null,
   "metadata": {},
   "outputs": [],
   "source": [
    "%matplotlib inline\n",
    "import sys\n",
    "import os\n",
    "\n",
    "# Sort the paths out to run from this file\n",
    "parent_path = os.path.dirname(os.getcwd())\n",
    "src_path = os.path.join(os.path.sep,parent_path, 'src')\n",
    "sys.path.append(src_path)\n",
    "print(src_path)"
   ]
  },
  {
   "cell_type": "markdown",
   "metadata": {},
   "source": [
    "## Reading 2D field\n",
    "\n",
    "list"
   ]
  },
  {
   "cell_type": "code",
   "execution_count": null,
   "metadata": {},
   "outputs": [],
   "source": [
    "from sim_reader import MeshReader, Unfolder\n",
    "from fields import ScalarField, VectorField\n",
    "from object_reader import PickleManager\n",
    "from regressors import LModel, CSModel\n",
    "import numpy as np\n",
    "\n",
    "\n",
    "# Define the necessary objects\n",
    "reader = MeshReader('monoblock_out.e')\n",
    "pickle_manager = PickleManager()\n",
    "unfolder = Unfolder()\n",
    "\n",
    "# Read the simulation data\n",
    "sensor_region = 'right'\n",
    "pos_3D = reader.read_pos(sensor_region)\n",
    "pos_2D = unfolder.compress_2D(pos_3D)\n",
    "bounds = unfolder.find_bounds(pos_2D)\n",
    "grid = unfolder.generate_grid(bounds, 30, 30)\n",
    "\n",
    "disp = np.array([\n",
    "    reader.read_scalar(sensor_region, 'disp_x'),\n",
    "    reader.read_scalar(sensor_region, 'disp_y'),\n",
    "    reader.read_scalar(sensor_region, 'disp_z')\n",
    "]).T\n",
    "\n",
    "disp_field = VectorField(LModel, bounds)\n",
    "disp_field.fit_model(pos_2D, disp)\n",
    "\n",
    "# Save the simulation data\n",
    "pickle_manager.save_file('simulation', 'disp_plane_field.obj', disp_field)\n",
    "pickle_manager.save_file('simulation', 'disp_plane_points.obj', grid)"
   ]
  },
  {
   "cell_type": "markdown",
   "metadata": {},
   "source": [
    "## Squashing to line\n",
    "\n",
    "description"
   ]
  },
  {
   "cell_type": "code",
   "execution_count": null,
   "metadata": {},
   "outputs": [],
   "source": [
    "# Convert the 2D field to a 1D line\n",
    "pos1 = (bounds[0][0], bounds[0][1])\n",
    "pos2 = (bounds[0][0], bounds[1][1])\n",
    "line_2D = unfolder.generate_line(pos1, pos2, 50)\n",
    "line_disps = disp_field.predict_values(line_2D)\n",
    "line_1D = unfolder.compress_1D(line_2D)\n",
    "\n",
    "bounds_1D = np.array([line_1D[0], line_1D[-1]])\n",
    "new_line_field = VectorField(CSModel, bounds_1D)\n",
    "new_line_field.fit_model(line_1D, line_disps)\n",
    "\n",
    "# Save the new 1D line field\n",
    "pickle_manager.save_file('simulation', 'disp_line_field.obj', new_line_field)\n",
    "pickle_manager.save_file('simulation', 'disp_line_points.obj', line_1D)"
   ]
  }
 ],
 "metadata": {
  "kernelspec": {
   "display_name": "Python 3.11.4 64-bit",
   "language": "python",
   "name": "python3"
  },
  "language_info": {
   "codemirror_mode": {
    "name": "ipython",
    "version": 3
   },
   "file_extension": ".py",
   "mimetype": "text/x-python",
   "name": "python",
   "nbconvert_exporter": "python",
   "pygments_lexer": "ipython3",
   "version": "3.10.8"
  },
  "orig_nbformat": 4,
  "vscode": {
   "interpreter": {
    "hash": "e7370f93d1d0cde622a1f8e1c04877d8463912d04d973331ad4851f04de6915a"
   }
  }
 },
 "nbformat": 4,
 "nbformat_minor": 2
}
