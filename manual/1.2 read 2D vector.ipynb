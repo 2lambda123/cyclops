{
 "cells": [
  {
   "cell_type": "markdown",
   "metadata": {},
   "source": [
    "# 1.2 Reading a 2D vector field from a simulation"
   ]
  },
  {
   "cell_type": "code",
   "execution_count": 1,
   "metadata": {},
   "outputs": [
    {
     "name": "stdout",
     "output_type": "stream",
     "text": [
      "/home/dharrington/cyclops/src\n"
     ]
    }
   ],
   "source": [
    "%matplotlib inline\n",
    "import sys\n",
    "import os\n",
    "\n",
    "# Sort the paths out to run from this file\n",
    "parent_path = os.path.dirname(os.getcwd())\n",
    "src_path = os.path.join(os.path.sep,parent_path, 'src')\n",
    "sys.path.append(src_path)\n",
    "print(src_path)"
   ]
  },
  {
   "cell_type": "markdown",
   "metadata": {},
   "source": [
    "First we define the objects we will use - the mesh reader (to read the mesh from the FEM file), the pickle manager (to save the mesh data that we want to analyse), and the unfolder (to manage the mesh)."
   ]
  },
  {
   "cell_type": "code",
   "execution_count": 2,
   "metadata": {},
   "outputs": [
    {
     "name": "stdout",
     "output_type": "stream",
     "text": [
      "<meshio mesh object>\n",
      "  Number of points: 87200\n",
      "  Number of cells:\n",
      "    hexahedron27: 2016\n",
      "    hexahedron27: 3360\n",
      "    hexahedron27: 4704\n",
      "  Point sets: right, top, left, , centre_x_bottom_y_back_z, centre_x_bottom_y_front_z, left_x_bottom_y_centre_z, right_x_bottom_y_centre_z\n",
      "  Point data: disp_x, disp_y, disp_z, temperature\n",
      "  Cell data: vonmises_stress\n"
     ]
    }
   ],
   "source": [
    "from sim_reader import MeshReader, Unfolder\n",
    "from fields import ScalarField, VectorField\n",
    "from object_reader import PickleManager\n",
    "from regressors import LModel, CSModel\n",
    "import numpy as np\n",
    "\n",
    "\n",
    "# Define the necessary objects\n",
    "reader = MeshReader('monoblock_out.e')\n",
    "pickle_manager = PickleManager()\n",
    "unfolder = Unfolder()"
   ]
  },
  {
   "cell_type": "markdown",
   "metadata": {},
   "source": [
    "Next we read the simulation data. Change the sensor_region from `right` to whatever you called the region where sensors can be placed in your FEM file.\n",
    "\n",
    "We get an array of 3D positions of all the nodes in that region in the mesh. In the monoblock file they all have x=0, but in your file they could all have z=5 or y=3 or whatever. The `compress_2D` function removes the x components so that the array becomes an array of 2D positions. You will have to redefine this function if you are analysing a different face or surface.\n",
    "\n",
    "The way the mesh reader works is if you have a vector `disp` then it splits it into 3 scalars `disp_x`, `disp_y`, and `disp_z`. You can find out the names of your vector by looking at the mesh info that is output by the code above (if you use a vector called something other than `disp`). We read the components of the vector and then join them together into a `VectorField`.\n",
    "\n",
    "We then save this field."
   ]
  },
  {
   "cell_type": "code",
   "execution_count": 3,
   "metadata": {},
   "outputs": [],
   "source": [
    "# Read the simulation data\n",
    "sensor_region = 'right'\n",
    "pos_3D = reader.read_pos(sensor_region)\n",
    "pos_2D = unfolder.compress_2D(pos_3D)\n",
    "bounds = unfolder.find_bounds(pos_2D)\n",
    "grid = unfolder.generate_grid(bounds, 30, 30)\n",
    "\n",
    "disp = np.array([\n",
    "    reader.read_scalar(sensor_region, 'disp_x'),\n",
    "    reader.read_scalar(sensor_region, 'disp_y'),\n",
    "    reader.read_scalar(sensor_region, 'disp_z')\n",
    "]).T\n",
    "\n",
    "disp_field = VectorField(LModel, bounds)\n",
    "disp_field.fit_model(pos_2D, disp)\n",
    "\n",
    "# Save the simulation data\n",
    "pickle_manager.save_file('simulation', 'disp_plane_field.obj', disp_field)\n",
    "pickle_manager.save_file('simulation', 'disp_plane_points.obj', grid)"
   ]
  },
  {
   "cell_type": "markdown",
   "metadata": {},
   "source": [
    "The displacement field is **NOT** uniform in the horizontal direction, but it doesn't change much and we can pretend that it is uniform if we want to get a 1D vector field. The code below considers the 1D strip along the edge of the field."
   ]
  },
  {
   "cell_type": "code",
   "execution_count": 4,
   "metadata": {},
   "outputs": [],
   "source": [
    "# Convert the 2D field to a 1D line\n",
    "pos1 = (bounds[0][0], bounds[0][1])\n",
    "pos2 = (bounds[0][0], bounds[1][1])\n",
    "line_2D = unfolder.generate_line(pos1, pos2, 50)\n",
    "line_disps = disp_field.predict_values(line_2D)\n",
    "line_1D = unfolder.compress_1D(line_2D)\n",
    "\n",
    "bounds_1D = np.array([line_1D[0], line_1D[-1]])\n",
    "new_line_field = VectorField(CSModel, bounds_1D)\n",
    "new_line_field.fit_model(line_1D, line_disps)\n",
    "\n",
    "# Save the new 1D line field\n",
    "pickle_manager.save_file('simulation', 'disp_line_field.obj', new_line_field)\n",
    "pickle_manager.save_file('simulation', 'disp_line_points.obj', line_1D)"
   ]
  }
 ],
 "metadata": {
  "kernelspec": {
   "display_name": "Python 3.11.4 64-bit",
   "language": "python",
   "name": "python3"
  },
  "language_info": {
   "codemirror_mode": {
    "name": "ipython",
    "version": 3
   },
   "file_extension": ".py",
   "mimetype": "text/x-python",
   "name": "python",
   "nbconvert_exporter": "python",
   "pygments_lexer": "ipython3",
   "version": "3.11.4"
  },
  "orig_nbformat": 4,
  "vscode": {
   "interpreter": {
    "hash": "e7370f93d1d0cde622a1f8e1c04877d8463912d04d973331ad4851f04de6915a"
   }
  }
 },
 "nbformat": 4,
 "nbformat_minor": 2
}
