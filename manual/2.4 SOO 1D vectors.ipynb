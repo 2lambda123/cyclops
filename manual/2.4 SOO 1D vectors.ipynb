{
 "cells": [
  {
   "cell_type": "markdown",
   "metadata": {},
   "source": [
    "# 2.2 SOO for 1D scalars"
   ]
  },
  {
   "cell_type": "code",
   "execution_count": 6,
   "metadata": {},
   "outputs": [
    {
     "name": "stdout",
     "output_type": "stream",
     "text": [
      "c:\\Users\\Domfx\\OneDrive\\Code\\cyclops\\src\n"
     ]
    }
   ],
   "source": [
    "%matplotlib inline\n",
    "import sys\n",
    "import os\n",
    "\n",
    "# Sort the paths out to run from this file\n",
    "parent_path = os.path.dirname(os.getcwd())\n",
    "src_path = os.path.join(os.path.sep,parent_path, 'src')\n",
    "sys.path.append(src_path)\n",
    "print(src_path)"
   ]
  },
  {
   "cell_type": "markdown",
   "metadata": {},
   "source": [
    "description"
   ]
  },
  {
   "cell_type": "code",
   "execution_count": 7,
   "metadata": {},
   "outputs": [],
   "source": [
    "from run_me import *\n",
    "\n",
    "\n",
    "# Load any objects necessary\n",
    "pickle_manager = PickleManager()\n",
    "graph_manager = GraphManager()\n",
    "true_temp_field = pickle_manager.read_file('simulation', 'disp_line_field.obj')\n",
    "grid = pickle_manager.read_file('simulation', 'disp_line_points.obj')\n",
    "\n",
    "field_bounds = true_temp_field.get_bounds()\n",
    "sensor_bounds = field_bounds+np.array([[1], [-1]])*0.002"
   ]
  },
  {
   "cell_type": "markdown",
   "metadata": {},
   "source": [
    "description"
   ]
  },
  {
   "cell_type": "code",
   "execution_count": 8,
   "metadata": {},
   "outputs": [],
   "source": [
    "# Setup the sensor suite\n",
    "def f(x): return 0\n",
    "sensor = PointSensor(0, f, 0, np.array([[-5e10, -5e10, -5e10], [5e10, 5e10, 5e10]]), 1)\n",
    "sensors = np.array([sensor]*5)\n",
    "sensor_suite = SensorSuite(\n",
    "    VectorField(RBFModel, field_bounds), \n",
    "    sensors\n",
    ")"
   ]
  },
  {
   "cell_type": "markdown",
   "metadata": {},
   "source": [
    "description"
   ]
  },
  {
   "cell_type": "code",
   "execution_count": 9,
   "metadata": {},
   "outputs": [
    {
     "ename": "ValueError",
     "evalue": "operands could not be broadcast together with shapes (5,) (10,) ",
     "output_type": "error",
     "traceback": [
      "\u001b[1;31m---------------------------------------------------------------------------\u001b[0m",
      "\u001b[1;31mValueError\u001b[0m                                Traceback (most recent call last)",
      "Cell \u001b[1;32mIn[9], line 8\u001b[0m\n\u001b[0;32m      2\u001b[0m optimiser \u001b[39m=\u001b[39m PSOOptimiser(\u001b[39m'\u001b[39m\u001b[39m00:00:10\u001b[39m\u001b[39m'\u001b[39m)\n\u001b[0;32m      3\u001b[0m experiment \u001b[39m=\u001b[39m Experiment(\n\u001b[0;32m      4\u001b[0m     true_temp_field,\n\u001b[0;32m      5\u001b[0m     grid,\n\u001b[0;32m      6\u001b[0m     optimiser\n\u001b[0;32m      7\u001b[0m )\n\u001b[1;32m----> 8\u001b[0m experiment\u001b[39m.\u001b[39;49mplan_soo(\n\u001b[0;32m      9\u001b[0m     sensor_suite,\n\u001b[0;32m     10\u001b[0m     sensor_bounds\n\u001b[0;32m     11\u001b[0m )\n\u001b[0;32m     12\u001b[0m res \u001b[39m=\u001b[39m experiment\u001b[39m.\u001b[39mdesign()\n\u001b[0;32m     13\u001b[0m proposed_layout, true_disps, model_disps, sensor_vals \u001b[39m=\u001b[39m experiment\u001b[39m.\u001b[39mget_SOO_plotting_arrays(res\u001b[39m.\u001b[39mX)\n",
      "File \u001b[1;32mc:\\Users\\Domfx\\OneDrive\\Code\\cyclops\\src\\experiment.py:54\u001b[0m, in \u001b[0;36mExperiment.plan_soo\u001b[1;34m(self, sensor_suite, sensor_bounds, repetitions)\u001b[0m\n\u001b[0;32m     52\u001b[0m num_sensors \u001b[39m=\u001b[39m sensor_suite\u001b[39m.\u001b[39mget_num_sensors()\n\u001b[0;32m     53\u001b[0m \u001b[39mself\u001b[39m\u001b[39m.\u001b[39m__active_sensors \u001b[39m=\u001b[39m np\u001b[39m.\u001b[39marray([\u001b[39mTrue\u001b[39;00m] \u001b[39m*\u001b[39m num_sensors)\n\u001b[1;32m---> 54\u001b[0m \u001b[39mself\u001b[39m\u001b[39m.\u001b[39m__problem \u001b[39m=\u001b[39m \u001b[39mself\u001b[39;49m\u001b[39m.\u001b[39;49m__build_problem(sensor_bounds, num_sensors, \u001b[39m1\u001b[39;49m, \u001b[39mself\u001b[39;49m\u001b[39m.\u001b[39;49mcalc_SOO_loss)\n\u001b[0;32m     55\u001b[0m \u001b[39mself\u001b[39m\u001b[39m.\u001b[39m__repetitions \u001b[39m=\u001b[39m repetitions\n",
      "File \u001b[1;32mc:\\Users\\Domfx\\OneDrive\\Code\\cyclops\\src\\experiment.py:93\u001b[0m, in \u001b[0;36mExperiment.__build_problem\u001b[1;34m(self, sensor_bounds, num_sensors, num_obj, loss_function)\u001b[0m\n\u001b[0;32m     91\u001b[0m low_border \u001b[39m=\u001b[39m \u001b[39mlist\u001b[39m(sensor_bounds[\u001b[39m0\u001b[39m]) \u001b[39m*\u001b[39m num_sensors\n\u001b[0;32m     92\u001b[0m high_border \u001b[39m=\u001b[39m \u001b[39mlist\u001b[39m(sensor_bounds[\u001b[39m1\u001b[39m]) \u001b[39m*\u001b[39m num_sensors\n\u001b[1;32m---> 93\u001b[0m \u001b[39mreturn\u001b[39;00m Problem(\n\u001b[0;32m     94\u001b[0m     num_dim\u001b[39m=\u001b[39;49mnum_sensors\u001b[39m*\u001b[39;49m\u001b[39mself\u001b[39;49m\u001b[39m.\u001b[39;49m__num_dim,\n\u001b[0;32m     95\u001b[0m     num_obj\u001b[39m=\u001b[39;49mnum_obj,\n\u001b[0;32m     96\u001b[0m     loss_function\u001b[39m=\u001b[39;49mloss_function,\n\u001b[0;32m     97\u001b[0m     borders\u001b[39m=\u001b[39;49m[low_border, high_border]\n\u001b[0;32m     98\u001b[0m )\n",
      "File \u001b[1;32mc:\\Users\\Domfx\\OneDrive\\Code\\cyclops\\src\\optimisers.py:31\u001b[0m, in \u001b[0;36mProblem.__init__\u001b[1;34m(self, num_dim, num_obj, loss_function, borders)\u001b[0m\n\u001b[0;32m     21\u001b[0m \u001b[39mdef\u001b[39;00m \u001b[39m__init__\u001b[39m(\u001b[39mself\u001b[39m, num_dim :\u001b[39mint\u001b[39m, num_obj :\u001b[39mint\u001b[39m, loss_function :\u001b[39mcallable\u001b[39m, borders :np\u001b[39m.\u001b[39mndarray) \u001b[39m-\u001b[39m\u001b[39m>\u001b[39m \u001b[39mNone\u001b[39;00m:\n\u001b[0;32m     22\u001b[0m \u001b[39m    \u001b[39m\u001b[39m\"\"\"\u001b[39;00m\n\u001b[0;32m     23\u001b[0m \u001b[39m    Setup the problem.\u001b[39;00m\n\u001b[0;32m     24\u001b[0m \n\u001b[1;32m   (...)\u001b[0m\n\u001b[0;32m     29\u001b[0m \u001b[39m        borders (np.ndarray): the upper and lower values of the function domain.\u001b[39;00m\n\u001b[0;32m     30\u001b[0m \u001b[39m    \"\"\"\u001b[39;00m\n\u001b[1;32m---> 31\u001b[0m     \u001b[39msuper\u001b[39;49m()\u001b[39m.\u001b[39;49m\u001b[39m__init__\u001b[39;49m(\n\u001b[0;32m     32\u001b[0m         n_var \u001b[39m=\u001b[39;49m num_dim, \n\u001b[0;32m     33\u001b[0m         n_obj \u001b[39m=\u001b[39;49m num_obj, \n\u001b[0;32m     34\u001b[0m         xl \u001b[39m=\u001b[39;49m borders[\u001b[39m0\u001b[39;49m], \n\u001b[0;32m     35\u001b[0m         xu \u001b[39m=\u001b[39;49m borders[\u001b[39m1\u001b[39;49m]\n\u001b[0;32m     36\u001b[0m     )\n\u001b[0;32m     37\u001b[0m     \u001b[39mself\u001b[39m\u001b[39m.\u001b[39m__loss_function \u001b[39m=\u001b[39m loss_function\n",
      "File \u001b[1;32mc:\\Users\\Domfx\\OneDrive\\Code\\cyclops\\venv\\lib\\site-packages\\pymoo\\core\\problem.py:376\u001b[0m, in \u001b[0;36mElementwiseProblem.__init__\u001b[1;34m(self, elementwise, **kwargs)\u001b[0m\n\u001b[0;32m    375\u001b[0m \u001b[39mdef\u001b[39;00m \u001b[39m__init__\u001b[39m(\u001b[39mself\u001b[39m, elementwise\u001b[39m=\u001b[39m\u001b[39mTrue\u001b[39;00m, \u001b[39m*\u001b[39m\u001b[39m*\u001b[39mkwargs):\n\u001b[1;32m--> 376\u001b[0m     \u001b[39msuper\u001b[39m()\u001b[39m.\u001b[39m\u001b[39m__init__\u001b[39m(elementwise\u001b[39m=\u001b[39melementwise, \u001b[39m*\u001b[39m\u001b[39m*\u001b[39mkwargs)\n",
      "File \u001b[1;32mc:\\Users\\Domfx\\OneDrive\\Code\\cyclops\\venv\\lib\\site-packages\\pymoo\\core\\problem.py:151\u001b[0m, in \u001b[0;36mProblem.__init__\u001b[1;34m(self, n_var, n_obj, n_ieq_constr, n_eq_constr, xl, xu, vtype, vars, elementwise, elementwise_func, elementwise_runner, replace_nan_values_by, exclude_from_serialization, callback, strict, **kwargs)\u001b[0m\n\u001b[0;32m    149\u001b[0m \u001b[39mif\u001b[39;00m \u001b[39mself\u001b[39m\u001b[39m.\u001b[39mxl \u001b[39mis\u001b[39;00m \u001b[39mnot\u001b[39;00m \u001b[39mNone\u001b[39;00m:\n\u001b[0;32m    150\u001b[0m     \u001b[39mif\u001b[39;00m \u001b[39mnot\u001b[39;00m \u001b[39misinstance\u001b[39m(\u001b[39mself\u001b[39m\u001b[39m.\u001b[39mxl, np\u001b[39m.\u001b[39mndarray):\n\u001b[1;32m--> 151\u001b[0m         \u001b[39mself\u001b[39m\u001b[39m.\u001b[39mxl \u001b[39m=\u001b[39m np\u001b[39m.\u001b[39;49mones(n_var) \u001b[39m*\u001b[39;49m xl\n\u001b[0;32m    152\u001b[0m     \u001b[39mself\u001b[39m\u001b[39m.\u001b[39mxl \u001b[39m=\u001b[39m \u001b[39mself\u001b[39m\u001b[39m.\u001b[39mxl\u001b[39m.\u001b[39mastype(\u001b[39mfloat\u001b[39m)\n\u001b[0;32m    154\u001b[0m \u001b[39mif\u001b[39;00m \u001b[39mself\u001b[39m\u001b[39m.\u001b[39mxu \u001b[39mis\u001b[39;00m \u001b[39mnot\u001b[39;00m \u001b[39mNone\u001b[39;00m:\n",
      "\u001b[1;31mValueError\u001b[0m: operands could not be broadcast together with shapes (5,) (10,) "
     ]
    }
   ],
   "source": [
    "# Setup the experiment\n",
    "optimiser = PSOOptimiser('00:00:10')\n",
    "experiment = Experiment(\n",
    "    true_temp_field,\n",
    "    grid,\n",
    "    optimiser\n",
    ")\n",
    "experiment.plan_soo(\n",
    "    sensor_suite,\n",
    "    sensor_bounds\n",
    ")\n",
    "res = experiment.design()\n",
    "proposed_layout, true_disps, model_disps, sensor_vals = experiment.get_SOO_plotting_arrays(res.X)"
   ]
  },
  {
   "cell_type": "markdown",
   "metadata": {},
   "source": [
    "description"
   ]
  },
  {
   "cell_type": "code",
   "execution_count": null,
   "metadata": {},
   "outputs": [],
   "source": [
    "mag_true_disps = np.linalg.norm(true_disps, axis=1).reshape(-1, 1)\n",
    "mag_model_disps = np.linalg.norm(model_disps, axis=1).reshape(-1, 1)\n",
    "mag_sensor_vals = np.linalg.norm(sensor_vals, axis=1).reshape(-1, 1)\n",
    "\n",
    "# Display the results\n",
    "graph_manager.build_optimisation(\n",
    "    res.history\n",
    ")\n",
    "graph_manager.draw()\n",
    "graph_manager.build_1D_compare(\n",
    "    \n",
    ")"
   ]
  }
 ],
 "metadata": {
  "kernelspec": {
   "display_name": "Python 3.11.4 64-bit",
   "language": "python",
   "name": "python3"
  },
  "language_info": {
   "codemirror_mode": {
    "name": "ipython",
    "version": 3
   },
   "file_extension": ".py",
   "mimetype": "text/x-python",
   "name": "python",
   "nbconvert_exporter": "python",
   "pygments_lexer": "ipython3",
   "version": "3.10.8"
  },
  "orig_nbformat": 4,
  "vscode": {
   "interpreter": {
    "hash": "e7370f93d1d0cde622a1f8e1c04877d8463912d04d973331ad4851f04de6915a"
   }
  }
 },
 "nbformat": 4,
 "nbformat_minor": 2
}
