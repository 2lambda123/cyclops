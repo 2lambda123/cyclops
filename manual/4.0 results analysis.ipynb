{
 "cells": [
  {
   "cell_type": "markdown",
   "metadata": {},
   "source": [
    "# 4.0 Results analysis"
   ]
  },
  {
   "cell_type": "code",
   "execution_count": 6,
   "metadata": {},
   "outputs": [
    {
     "name": "stdout",
     "output_type": "stream",
     "text": [
      "/home/dharrington/cyclops/src\n"
     ]
    }
   ],
   "source": [
    "%matplotlib inline\n",
    "import sys\n",
    "import os\n",
    "\n",
    "# Sort the paths out to run from this file\n",
    "parent_path = os.path.dirname(os.getcwd())\n",
    "src_path = os.path.join(os.path.sep,parent_path, 'src')\n",
    "sys.path.append(src_path)\n",
    "print(src_path)"
   ]
  },
  {
   "cell_type": "code",
   "execution_count": 7,
   "metadata": {},
   "outputs": [
    {
     "ename": "NameError",
     "evalue": "name 'field_bounds' is not defined",
     "output_type": "error",
     "traceback": [
      "\u001b[0;31m---------------------------------------------------------------------------\u001b[0m",
      "\u001b[0;31mNameError\u001b[0m                                 Traceback (most recent call last)",
      "Cell \u001b[0;32mIn [7], line 27\u001b[0m\n\u001b[1;32m     23\u001b[0m sensor \u001b[38;5;241m=\u001b[39m Thermocouple(temps, voltages, \u001b[38;5;241m1\u001b[39m)\n\u001b[1;32m     24\u001b[0m sensors \u001b[38;5;241m=\u001b[39m np\u001b[38;5;241m.\u001b[39marray([sensor]\u001b[38;5;241m*\u001b[39m\u001b[38;5;241m5\u001b[39m)\n\u001b[1;32m     26\u001b[0m sensor_suite \u001b[38;5;241m=\u001b[39m SensorSuite(\n\u001b[0;32m---> 27\u001b[0m     ScalarField(RBFModel, \u001b[43mfield_bounds\u001b[49m), \n\u001b[1;32m     28\u001b[0m     sensors\n\u001b[1;32m     29\u001b[0m )\n\u001b[1;32m     30\u001b[0m experiment\u001b[38;5;241m.\u001b[39mplan_moo(\n\u001b[1;32m     31\u001b[0m     sensor_suite,\n\u001b[1;32m     32\u001b[0m     sensor_bounds,\n\u001b[0;32m   (...)\u001b[0m\n\u001b[1;32m     35\u001b[0m     num_cores\u001b[38;5;241m=\u001b[39m\u001b[38;5;241m4\u001b[39m\n\u001b[1;32m     36\u001b[0m )\n",
      "\u001b[0;31mNameError\u001b[0m: name 'field_bounds' is not defined"
     ]
    }
   ],
   "source": [
    "from run_me import *\n",
    "\n",
    "\n",
    "# Load any objects necessary\n",
    "pickle_manager = PickleManager()\n",
    "graph_manager = GraphManager()\n",
    "true_temp_field = pickle_manager.read_file('simulation', 'temp_line_field.obj')\n",
    "grid = pickle_manager.read_file('simulation', 'temp_line_points.obj')\n",
    "res = pickle_manager.read_file('results', 'Temp_1D_res.obj')\n",
    "field_bounds = true_temp_field.get_bounds()\n",
    "sensor_bounds = field_bounds+np.array([[1], [-1]])*0.002\n",
    "\n",
    "\n",
    "# Setup the experiment\n",
    "optimiser = NSGA2Optimiser('00:00:10')\n",
    "experiment = Experiment(\n",
    "    true_temp_field,\n",
    "    grid,\n",
    "    optimiser\n",
    ")\n",
    "\n",
    "\n",
    "# Setup the sensor suite\n",
    "temps = pickle_manager.read_file('sensors', 'k-type-T.obj')\n",
    "voltages = pickle_manager.read_file('sensors', 'k-type-V.obj')\n",
    "sensor = Thermocouple(temps, voltages, 1)\n",
    "sensors = np.array([sensor]*5)\n",
    "\n",
    "sensor_suite = SensorSuite(\n",
    "    ScalarField(RBFModel, field_bounds), \n",
    "    sensors\n",
    ")\n",
    "experiment.plan_moo(\n",
    "    sensor_suite,\n",
    "    sensor_bounds,\n",
    "    repetitions=10,\n",
    "    loss_limit=1000,\n",
    "    num_cores=4\n",
    ")"
   ]
  },
  {
   "cell_type": "markdown",
   "metadata": {},
   "source": [
    "This code is for when you get the results from the supercomputer then copy them into the results folder and want to analyse them. Remember that you must setup the experiment and sensor layout with the same parameters."
   ]
  },
  {
   "cell_type": "code",
   "execution_count": null,
   "metadata": {},
   "outputs": [],
   "source": [
    "graph_manager.build_pareto(res.F)\n",
    "graph_manager.draw()\n",
    "\n",
    "graph_manager.build_pareto(res.F)\n",
    "graph_manager.save_png('results', 'Pareto.png')\n",
    "\n",
    "display_str = input('Enter setup to display [Q to quit]: ')\n",
    "while display_str.isnumeric():\n",
    "    proposed_layout, true_temps, model_temps, sensor_values = experiment.get_SOO_plotting_arrays(res.X[int(display_str)])\n",
    "    print('\\nLoss:', experiment.calc_MOO_loss(res.X[int(display_str)]))\n",
    "    graph_manager.build_1D_compare(\n",
    "        grid,\n",
    "        proposed_layout,\n",
    "        sensor_values,\n",
    "        true_temps,\n",
    "        model_temps\n",
    "    )\n",
    "    graph_manager.draw()\n",
    "    display_str = input('Enter setup to display [Q to quit]: ')"
   ]
  }
 ],
 "metadata": {
  "kernelspec": {
   "display_name": "Python 3.11.4 64-bit",
   "language": "python",
   "name": "python3"
  },
  "language_info": {
   "codemirror_mode": {
    "name": "ipython",
    "version": 3
   },
   "file_extension": ".py",
   "mimetype": "text/x-python",
   "name": "python",
   "nbconvert_exporter": "python",
   "pygments_lexer": "ipython3",
   "version": "3.11.4"
  },
  "orig_nbformat": 4,
  "vscode": {
   "interpreter": {
    "hash": "e7370f93d1d0cde622a1f8e1c04877d8463912d04d973331ad4851f04de6915a"
   }
  }
 },
 "nbformat": 4,
 "nbformat_minor": 2
}
