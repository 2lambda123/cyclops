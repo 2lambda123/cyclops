{
 "cells": [
  {
   "cell_type": "markdown",
   "metadata": {},
   "source": [
    "# Further use\n",
    "\n",
    "The '*easy_use.ipynb*' page of the manual describes (and in fact shows you) how to use the basic capabilities of the package. This manual describes how to use more of the functionality by changing the source code to make it more compatible with your specific use case."
   ]
  },
  {
   "cell_type": "markdown",
   "metadata": {},
   "source": [
    "## Reading Simulation files\n",
    "\n",
    "Modifications (general):\n",
    "1. Add your new simulation file to the simulation folder\n",
    "2. Change the constants in '*src/constants.py*' to describe the boundaries of the 2D grid that we will extract from the simulation file\n",
    "\n",
    "Modifications to '*src/exodus_reader.py*':\n",
    "1. Sample a different variable instead of `temperature` by changing the line in the `__init__()` function\n",
    "2. Use an RBF interpolater instead of a linear interpolator to rearrange your FEM mesh (RBF is much slower for large meshes)\n",
    "3. Write a function that will squash a curved region in your experiment into a 2D grid instead of a 2D region (often a face) into a 2D grid\n",
    "4. Set `double=True` in `generate_side()` to reflect all values in the plane with a normal in the x-axis to pretend that two monoblocks are next to each other\n",
    "5. Rename the columns when saving to a csv\n",
    "6. Add extra columns when saving to a csv\n",
    "7. Change the resolution of the points we save to csv (higher resolutions are more similar to the FEM prediction but take longer to optimise)"
   ]
  },
  {
   "cell_type": "markdown",
   "metadata": {},
   "source": [
    "## Field reconstruction and loss calculation\n",
    "\n",
    "Modifications to '*src/face_model.py*':\n",
    "1. Add another field reconstruction algorithm\n",
    "\n",
    "Modifications to '*src/model_management.py*':\n",
    "1. Change the csv_reader to cope with any extra columns you added or removed in '*src/exodus_reader.py*'\n",
    "2. Change to an RBF interpolator if you used an RBF interpolator in '*src/exodus_reader.py*'\n",
    "3. Change the csv file you read the thermcouple data from if you have created a new csv file \n",
    "4. Change the `compare_fields()` function to change how we compare the model temperature field with the true temperature field to calcualte the loss (currently we use MSE)\n",
    "5. Change the `find_loss()` function to change how we calculate the loss of a specific setup (we can increase the repetitions to improve the accuracy of calculation, or change the kind of sensors we use, or change the assumptions - eg use ideal temperature sensors)\n",
    "6. Change the `find_sensor_keys()` function to change how deep we search (do we only consider 1 failed sensor or 2 or 3 or 4? - note that for more failed sensors you should increase the maximum number of repeitions)\n",
    "7. Add a new model manager that makes a specific assumption about the field (or one that makes no assumptions)\n",
    "\n",
    "Modifications to '*src/constants.py*':\n",
    "1. Change the `FAILURE_RATE` of the thermocouple\n",
    "2. Change the `THERMOCOUPLE_RADIUS`\n",
    "3. Change the `ERROR` of the thermocouple\n",
    "4. Change the `LOSS_LIMIT` in '*src/constants.py*' to change the maximum loss allowed in a successful experiment (for calculating the reliability)\n",
    "\n",
    "Modifcations to '*src/thermocouple_reader.py*':\n",
    "1. Download a new table of thermocouple data from https://srdata.nist.gov/its90/download/download.html into 'simulation' folder\n",
    "2. Change the `__main__()` conditional at the bottom of the script to read this new file and save it to a new csv\n"
   ]
  },
  {
   "cell_type": "markdown",
   "metadata": {},
   "source": [
    "## Optimisation\n",
    "\n",
    "Modifications to '*src/optimisers.py*':\n",
    "1. Change the kind of optimisation algorithm\n",
    "2. Change how it responds to different types of model managers (if you changed the model manager)\n",
    "3. Add constraints - for instance add some regions where sensors cannot be placed\n",
    "4. Change the GA (population size, offspring number, crossover rate, mutation rate)\n",
    "5. Change the seed so you don't always get the same results"
   ]
  },
  {
   "cell_type": "markdown",
   "metadata": {},
   "source": [
    "## Results\n",
    "\n",
    "Modifications to '*src/results_management.py*':\n",
    "1. Change the file format - save more details about the optimisations so the sensor positions can be more easily accessed\n",
    "\n",
    "\n",
    "Modifications to '*src/graph_management.py*':\n",
    "1. You can figure out some more graphs to plot, or change how the pdf looks"
   ]
  }
 ],
 "metadata": {
  "kernelspec": {
   "display_name": "Python 3.11.4 64-bit",
   "language": "python",
   "name": "python3"
  },
  "language_info": {
   "name": "python",
   "version": "3.11.4"
  },
  "orig_nbformat": 4,
  "vscode": {
   "interpreter": {
    "hash": "e7370f93d1d0cde622a1f8e1c04877d8463912d04d973331ad4851f04de6915a"
   }
  }
 },
 "nbformat": 4,
 "nbformat_minor": 2
}
