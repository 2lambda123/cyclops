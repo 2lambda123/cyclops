{
 "cells": [
  {
   "cell_type": "markdown",
   "metadata": {},
   "source": [
    "# Introduction to cyclops\n",
    "\n",
    "This manual hopes to give you a brief overview of how cyclops works. After reading this we recommend you go straight to the '*easy_use.ipynb*' file to run some optimisations to familiarise yourself with everything."
   ]
  },
  {
   "cell_type": "markdown",
   "metadata": {},
   "source": [
    "## Function naming\n",
    "\n",
    "* `get_` means getter\n",
    "* `set_` means setter\n",
    "* `generate_` means generator for initialisation\n",
    "* `find_` means return a value involving calculation\n",
    "* `draw_` means show and close a pyplot figure\n",
    "* `build_` means create a pyplot figure and return it without showing it\n",
    "* `plot_` means plot a python graph on a given axis"
   ]
  },
  {
   "cell_type": "markdown",
   "metadata": {},
   "source": [
    "## What cyclops does\n",
    "\n",
    "The user provides a Finite Element Method (FEM) simulation file of the object to be experimented on into the simulation folder (and optionally data about the non-linearity of their sensors into the sensors folder).\n",
    "\n",
    "They convert the non-linear sensor data to a csv format as shown in the examples in file '*1 simulation processing.ipynb*'. Note that some of the functions may have to be adapted to your situation if you are not using a monoblock - the unfolder class just squashes the points onto a plane instead of actually unfolding the mesh.\n",
    "\n",
    "Then the experiment can be optimised as shown in file '*2 SOO experiment design.ipynb*' and file '*3 MOO experiment design.ipynb*'.\n",
    "\n",
    "\n",
    "![Overview diagram](overview_diagram.jpg \"Title\")"
   ]
  },
  {
   "cell_type": "markdown",
   "metadata": {},
   "source": [
    "## How does cylcops work?\n",
    "\n",
    "The package was designed on the Sklearn philosopy of initialise, plan, act. You may judge for yourself if I have succeeded.\n",
    "\n",
    "\n",
    "I built a number of machine learning and interpolation regression algorithms in '*regressors.py*'. These have 3 key methods.\n",
    "* `__init__` where they are initialised with the correct hyperparameters.\n",
    "* `fit` where they are fitted to data.\n",
    "* `predict` where they predict an array of output data values given an array of input data values.\n",
    "The input and output data is always a 2D numpy array of the form `[[x1], [x2], [x3]] or [[x1, y1], [x2, y2], [x3, y3]]`. Not all the regressors can cope with all input data dimensions - the  `CTModel` for instance only applies to 2D input data.\n",
    "\n",
    "The `Field` objects are vector or scalar fields that use the regressors to take in a position in the field and predict the value of the field at that position. They have 3 key methods.\n",
    "* `__init__` where they are initialised with the correct parameters.\n",
    "* `fit_model` where a machine learning model is taught the field data at the known positions in the field so that it can interpolate & extrapolate.\n",
    "* `predict_values` where an array of positions is input and the predictions for the field values at those points are output.\n",
    "The simulation file provided in step 1 is converted to a field object. This is referred to as the 'True field'. Field objects are also used by the `SensorSuite` to predict the field values from sensor values.\n",
    "\n",
    "TODO\n",
    "\n",
    "After all this we analyse the results by plotting graphs with the graph manager."
   ]
  }
 ],
 "metadata": {
  "kernelspec": {
   "display_name": "Python 3.11.4 64-bit",
   "language": "python",
   "name": "python3"
  },
  "language_info": {
   "codemirror_mode": {
    "name": "ipython",
    "version": 3
   },
   "file_extension": ".py",
   "mimetype": "text/x-python",
   "name": "python",
   "nbconvert_exporter": "python",
   "pygments_lexer": "ipython3",
   "version": "3.11.4"
  },
  "orig_nbformat": 4,
  "vscode": {
   "interpreter": {
    "hash": "e7370f93d1d0cde622a1f8e1c04877d8463912d04d973331ad4851f04de6915a"
   }
  }
 },
 "nbformat": 4,
 "nbformat_minor": 2
}
